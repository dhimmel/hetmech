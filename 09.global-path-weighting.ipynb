{
 "cells": [
  {
   "cell_type": "markdown",
   "metadata": {},
   "source": [
    "# Global Path Weighting\n",
    "\n",
    "This notebook will implement and evaluate a method to weight hetnet paths in such a way that they can be compared between metapaths. This is an improvement on ranking by path degree product (pdp), as pdps are not comparable for paths that are part of different metapaths.\n",
    "\n",
    "## Proposed Weighting Method\n",
    "\n",
    "Thanks to the work done on [generating empirical p-values for metapaths](https://github.com/greenelab/hetmech/issues/134), we can compare the relative importance of different metapaths for a given node pair in a hetnet. To allow comparison between individual paths, we can take the negative log of the p-value (for readability), multiply it for the path degree product for the node pair, and adjust the result based on the number of metapaths of that length."
   ]
  },
  {
   "cell_type": "code",
   "execution_count": 1,
   "metadata": {},
   "outputs": [],
   "source": [
    "import math\n",
    "\n",
    "from tqdm import tqdm\n",
    "import matplotlib.pyplot as plt\n",
    "import pandas\n",
    "\n",
    "from neo4j import GraphDatabase\n",
    "import hetnetpy.readwrite\n",
    "import hetnetpy.neo4j\n",
    "from src.database_utils import get_db_connection"
   ]
  },
  {
   "cell_type": "code",
   "execution_count": 2,
   "metadata": {},
   "outputs": [],
   "source": [
    "# Note that SQL needs extra quotation marks to treat the identifiers as strings\n",
    "compound = \"DB01156\"  # Bupropion\n",
    "disease = \"DOID:0050742\"  # nicotine dependences"
   ]
  },
  {
   "cell_type": "code",
   "execution_count": 3,
   "metadata": {},
   "outputs": [
    {
     "name": "stdout",
     "output_type": "stream",
     "text": [
      "SELECT n1.name, n2.name, metapath_id, pc.p_value \n",
      "FROM dj_hetmech_app_pathcount pc \n",
      "    JOIN dj_hetmech_app_node n1 ON n1.id = source_id \n",
      "    JOIN dj_hetmech_app_node n2 ON n2.id = target_id  \n",
      "WHERE (n1.identifier='DOID:0050742' AND n2.identifier='DB01156')\n",
      "    OR (n1.identifier='DB01156' AND n2.identifier='DOID:0050742')\n",
      "ORDER BY pc.p_value ASC \n",
      "LIMIT 10;\n",
      "\n"
     ]
    }
   ],
   "source": [
    "# Query db with psycopg2 to get the top ten metapaths for this pair, and their p-values\n",
    "connection = get_db_connection()\n",
    "\n",
    "# Get the p-values for the top ten paths for the given compound and disease\n",
    "query = f\"\"\"\\\n",
    "SELECT n1.name, n2.name, metapath_id, pc.p_value \n",
    "FROM dj_hetmech_app_pathcount pc \n",
    "    JOIN dj_hetmech_app_node n1 ON n1.id = source_id \n",
    "    JOIN dj_hetmech_app_node n2 ON n2.id = target_id  \n",
    "WHERE (n1.identifier={disease!r} AND n2.identifier={compound!r})\n",
    "    OR (n1.identifier={compound!r} AND n2.identifier={disease!r})\n",
    "ORDER BY pc.p_value ASC \n",
    "LIMIT 10;\n",
    "\"\"\"\n",
    "print(query)\n",
    "\n",
    "cursor = connection.cursor()\n",
    "\n",
    "cursor.execute(query)\n",
    "tuple_metapaths = cursor.fetchall()\n",
    "\n",
    "connection.close()"
   ]
  },
  {
   "cell_type": "code",
   "execution_count": 4,
   "metadata": {},
   "outputs": [
    {
     "name": "stdout",
     "output_type": "stream",
     "text": [
      "['CbGiGaD', 'CbGbCtD', 'CbGaD', 'CpDrDrD', 'CbGbCpD', 'CdGuCtD', 'CpDlAlD', 'CcSEcCtD', 'CpDrD', 'CdGdCpD']\n"
     ]
    }
   ],
   "source": [
    "# Take the negative log of the p-values\n",
    "\n",
    "# Convert metapaths to a list of lists instead of a tuple of tuples to allow item assignment\n",
    "list_metapaths = [list(metapath) for metapath in tuple_metapaths]\n",
    "for i, _ in enumerate(tuple_metapaths):\n",
    "    list_metapaths[i][3] = -1 * math.log10(tuple_metapaths[i][3])\n",
    "    \n",
    "print([metapath[2] for metapath in list_metapaths])"
   ]
  },
  {
   "cell_type": "markdown",
   "metadata": {},
   "source": [
    "Note from 2020-02-03: stopped rerunning here because public database configured in [60f4826a](https://github.com/greenelab/hetmech/commit/60f4826a951d007eeb19227e19669544e57eeb93) does not store all metapath results. Previousely, this notebook used a database on a Greene Lab workstation which is no longer online. The production database was populated in https://github.com/greenelab/connectivity-search-backend/pull/41.\n",
    "\n",
    "Could we do this with the API instead at <https://search-api.het.io/>?"
   ]
  },
  {
   "cell_type": "code",
   "execution_count": 5,
   "metadata": {},
   "outputs": [],
   "source": [
    "url = 'https://github.com/dhimmel/hetionet/raw/76550e6c93fbe92124edc71725e8c7dd4ca8b1f5/hetnet/json/hetionet-v1.0.json.bz2'\n",
    "metagraph = hetnetpy.readwrite.read_metagraph(url)"
   ]
  },
  {
   "cell_type": "code",
   "execution_count": 6,
   "metadata": {},
   "outputs": [
    {
     "data": {
      "text/plain": [
       "10"
      ]
     },
     "execution_count": 6,
     "metadata": {},
     "output_type": "execute_result"
    }
   ],
   "source": [
    "damping_exponent = 0.4\n",
    "all_metapath_results = []\n",
    "for metapath in list_metapaths:\n",
    "    metapath_data = metagraph.metapath_from_abbrev(metapath[2])\n",
    "    query = hetnetpy.neo4j.construct_pdp_query(metapath_data, path_style='list', property='identifier')\n",
    "    driver = GraphDatabase.driver(\"bolt://neo4j.het.io\")\n",
    "    params = {\n",
    "        'source': compound,\n",
    "        'target': disease,\n",
    "        'w': damping_exponent\n",
    "    }\n",
    "    with driver.session() as session:\n",
    "        metapath_result = session.run(query, params)\n",
    "        metapath_result = metapath_result.data()\n",
    "        all_metapath_results.append(metapath_result)\n",
    "len(all_metapath_results)"
   ]
  },
  {
   "cell_type": "code",
   "execution_count": 7,
   "metadata": {
    "scrolled": false
   },
   "outputs": [
    {
     "data": {
      "text/html": [
       "<div>\n",
       "<style scoped>\n",
       "    .dataframe tbody tr th:only-of-type {\n",
       "        vertical-align: middle;\n",
       "    }\n",
       "\n",
       "    .dataframe tbody tr th {\n",
       "        vertical-align: top;\n",
       "    }\n",
       "\n",
       "    .dataframe thead th {\n",
       "        text-align: right;\n",
       "    }\n",
       "</style>\n",
       "<table border=\"1\" class=\"dataframe\">\n",
       "  <thead>\n",
       "    <tr style=\"text-align: right;\">\n",
       "      <th></th>\n",
       "      <th>PDP</th>\n",
       "      <th>percent_of_DWPC</th>\n",
       "      <th>path_importance</th>\n",
       "      <th>metapath_importance</th>\n",
       "      <th>metapath_abbr</th>\n",
       "    </tr>\n",
       "    <tr>\n",
       "      <th>path</th>\n",
       "      <th></th>\n",
       "      <th></th>\n",
       "      <th></th>\n",
       "      <th></th>\n",
       "      <th></th>\n",
       "    </tr>\n",
       "  </thead>\n",
       "  <tbody>\n",
       "    <tr>\n",
       "      <th>Bupropion–CHRNA3–CHRNB4–nicotine dependence</th>\n",
       "      <td>0.013690</td>\n",
       "      <td>92.396717</td>\n",
       "      <td>250.792924</td>\n",
       "      <td>2.714306</td>\n",
       "      <td>CbGiGaD</td>\n",
       "    </tr>\n",
       "    <tr>\n",
       "      <th>Bupropion–CHRNA3–Varenicline–nicotine dependence</th>\n",
       "      <td>0.028646</td>\n",
       "      <td>100.000000</td>\n",
       "      <td>243.927569</td>\n",
       "      <td>2.439276</td>\n",
       "      <td>CbGbCtD</td>\n",
       "    </tr>\n",
       "    <tr>\n",
       "      <th>Bupropion–CHRNA3–nicotine dependence</th>\n",
       "      <td>0.026062</td>\n",
       "      <td>100.000000</td>\n",
       "      <td>214.475654</td>\n",
       "      <td>2.144757</td>\n",
       "      <td>CbGaD</td>\n",
       "    </tr>\n",
       "    <tr>\n",
       "      <th>Bupropion–attention deficit hyperactivity disorder–nicotine dependence</th>\n",
       "      <td>0.078028</td>\n",
       "      <td>100.000000</td>\n",
       "      <td>179.370185</td>\n",
       "      <td>1.793702</td>\n",
       "      <td>CpDrD</td>\n",
       "    </tr>\n",
       "    <tr>\n",
       "      <th>Bupropion–panic disorder–alcohol dependence–nicotine dependence</th>\n",
       "      <td>0.023619</td>\n",
       "      <td>58.945526</td>\n",
       "      <td>123.604565</td>\n",
       "      <td>2.096929</td>\n",
       "      <td>CpDrDrD</td>\n",
       "    </tr>\n",
       "    <tr>\n",
       "      <th>...</th>\n",
       "      <td>...</td>\n",
       "      <td>...</td>\n",
       "      <td>...</td>\n",
       "      <td>...</td>\n",
       "      <td>...</td>\n",
       "    </tr>\n",
       "    <tr>\n",
       "      <th>Bupropion–Vomiting–Varenicline–nicotine dependence</th>\n",
       "      <td>0.000038</td>\n",
       "      <td>0.102223</td>\n",
       "      <td>0.203059</td>\n",
       "      <td>1.986430</td>\n",
       "      <td>CcSEcCtD</td>\n",
       "    </tr>\n",
       "    <tr>\n",
       "      <th>Bupropion–Rash–Varenicline–nicotine dependence</th>\n",
       "      <td>0.000038</td>\n",
       "      <td>0.101372</td>\n",
       "      <td>0.201368</td>\n",
       "      <td>1.986430</td>\n",
       "      <td>CcSEcCtD</td>\n",
       "    </tr>\n",
       "    <tr>\n",
       "      <th>Bupropion–Dermatitis–Varenicline–nicotine dependence</th>\n",
       "      <td>0.000038</td>\n",
       "      <td>0.101278</td>\n",
       "      <td>0.201181</td>\n",
       "      <td>1.986430</td>\n",
       "      <td>CcSEcCtD</td>\n",
       "    </tr>\n",
       "    <tr>\n",
       "      <th>Bupropion–Headache–Varenicline–nicotine dependence</th>\n",
       "      <td>0.000037</td>\n",
       "      <td>0.100720</td>\n",
       "      <td>0.200073</td>\n",
       "      <td>1.986430</td>\n",
       "      <td>CcSEcCtD</td>\n",
       "    </tr>\n",
       "    <tr>\n",
       "      <th>Bupropion–Nausea–Varenicline–nicotine dependence</th>\n",
       "      <td>0.000035</td>\n",
       "      <td>0.095498</td>\n",
       "      <td>0.189701</td>\n",
       "      <td>1.986430</td>\n",
       "      <td>CcSEcCtD</td>\n",
       "    </tr>\n",
       "  </tbody>\n",
       "</table>\n",
       "<p>236 rows × 5 columns</p>\n",
       "</div>"
      ],
      "text/plain": [
       "                                                         PDP  percent_of_DWPC  \\\n",
       "path                                                                            \n",
       "Bupropion–CHRNA3–CHRNB4–nicotine dependence         0.013690        92.396717   \n",
       "Bupropion–CHRNA3–Varenicline–nicotine dependence    0.028646       100.000000   \n",
       "Bupropion–CHRNA3–nicotine dependence                0.026062       100.000000   \n",
       "Bupropion–attention deficit hyperactivity disor...  0.078028       100.000000   \n",
       "Bupropion–panic disorder–alcohol dependence–nic...  0.023619        58.945526   \n",
       "...                                                      ...              ...   \n",
       "Bupropion–Vomiting–Varenicline–nicotine dependence  0.000038         0.102223   \n",
       "Bupropion–Rash–Varenicline–nicotine dependence      0.000038         0.101372   \n",
       "Bupropion–Dermatitis–Varenicline–nicotine depen...  0.000038         0.101278   \n",
       "Bupropion–Headache–Varenicline–nicotine dependence  0.000037         0.100720   \n",
       "Bupropion–Nausea–Varenicline–nicotine dependence    0.000035         0.095498   \n",
       "\n",
       "                                                    path_importance  \\\n",
       "path                                                                  \n",
       "Bupropion–CHRNA3–CHRNB4–nicotine dependence              250.792924   \n",
       "Bupropion–CHRNA3–Varenicline–nicotine dependence         243.927569   \n",
       "Bupropion–CHRNA3–nicotine dependence                     214.475654   \n",
       "Bupropion–attention deficit hyperactivity disor...       179.370185   \n",
       "Bupropion–panic disorder–alcohol dependence–nic...       123.604565   \n",
       "...                                                             ...   \n",
       "Bupropion–Vomiting–Varenicline–nicotine dependence         0.203059   \n",
       "Bupropion–Rash–Varenicline–nicotine dependence             0.201368   \n",
       "Bupropion–Dermatitis–Varenicline–nicotine depen...         0.201181   \n",
       "Bupropion–Headache–Varenicline–nicotine dependence         0.200073   \n",
       "Bupropion–Nausea–Varenicline–nicotine dependence           0.189701   \n",
       "\n",
       "                                                    metapath_importance  \\\n",
       "path                                                                      \n",
       "Bupropion–CHRNA3–CHRNB4–nicotine dependence                    2.714306   \n",
       "Bupropion–CHRNA3–Varenicline–nicotine dependence               2.439276   \n",
       "Bupropion–CHRNA3–nicotine dependence                           2.144757   \n",
       "Bupropion–attention deficit hyperactivity disor...             1.793702   \n",
       "Bupropion–panic disorder–alcohol dependence–nic...             2.096929   \n",
       "...                                                                 ...   \n",
       "Bupropion–Vomiting–Varenicline–nicotine dependence             1.986430   \n",
       "Bupropion–Rash–Varenicline–nicotine dependence                 1.986430   \n",
       "Bupropion–Dermatitis–Varenicline–nicotine depen...             1.986430   \n",
       "Bupropion–Headache–Varenicline–nicotine dependence             1.986430   \n",
       "Bupropion–Nausea–Varenicline–nicotine dependence               1.986430   \n",
       "\n",
       "                                                   metapath_abbr  \n",
       "path                                                              \n",
       "Bupropion–CHRNA3–CHRNB4–nicotine dependence              CbGiGaD  \n",
       "Bupropion–CHRNA3–Varenicline–nicotine dependence         CbGbCtD  \n",
       "Bupropion–CHRNA3–nicotine dependence                       CbGaD  \n",
       "Bupropion–attention deficit hyperactivity disor...         CpDrD  \n",
       "Bupropion–panic disorder–alcohol dependence–nic...       CpDrDrD  \n",
       "...                                                          ...  \n",
       "Bupropion–Vomiting–Varenicline–nicotine dependence      CcSEcCtD  \n",
       "Bupropion–Rash–Varenicline–nicotine dependence          CcSEcCtD  \n",
       "Bupropion–Dermatitis–Varenicline–nicotine depen...      CcSEcCtD  \n",
       "Bupropion–Headache–Varenicline–nicotine dependence      CcSEcCtD  \n",
       "Bupropion–Nausea–Varenicline–nicotine dependence        CcSEcCtD  \n",
       "\n",
       "[236 rows x 5 columns]"
      ]
     },
     "execution_count": 7,
     "metadata": {},
     "output_type": "execute_result"
    }
   ],
   "source": [
    "paths = []\n",
    "for metapath_result, metapath_info in zip(all_metapath_results, list_metapaths):\n",
    "    metapath_importance = metapath_info[3]\n",
    "    for path_dict in metapath_result:\n",
    "        path_dict = path_dict.copy()\n",
    "        path_dict['path_importance'] = metapath_importance * path_dict['percent_of_DWPC']\n",
    "        path_dict['metapath_importance'] = metapath_importance\n",
    "        path_dict['path'] = '–'.join(path_dict['path'])\n",
    "        path_dict['metapath_abbr'] = metapath_info[2] \n",
    "        paths.append(path_dict)\n",
    "path_df = (\n",
    "    pandas.DataFrame(paths)\n",
    "    .set_index('path')\n",
    "    .sort_values(\"path_importance\", ascending=False)\n",
    ")\n",
    "path_df"
   ]
  },
  {
   "cell_type": "code",
   "execution_count": 8,
   "metadata": {},
   "outputs": [
    {
     "data": {
      "image/png": "[encoded data removed]",
      "text/plain": [
       "<Figure size 432x288 with 1 Axes>"
      ]
     },
     "metadata": {
      "needs_background": "light"
     },
     "output_type": "display_data"
    }
   ],
   "source": [
    "plt.plot(path_df.path_importance.to_list())\n",
    "plt.show()"
   ]
  }
 ],
 "metadata": {
  "kernelspec": {
   "display_name": "Python 3",
   "language": "python",
   "name": "python3"
  },
  "language_info": {
   "codemirror_mode": {
    "name": "ipython",
    "version": 3
   },
   "file_extension": ".py",
   "mimetype": "text/x-python",
   "name": "python",
   "nbconvert_exporter": "python",
   "pygments_lexer": "ipython3",
   "version": "3.8.6"
  }
 },
 "nbformat": 4,
 "nbformat_minor": 2
}
