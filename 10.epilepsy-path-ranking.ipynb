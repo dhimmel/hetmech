{
 "cells": [
  {
   "cell_type": "code",
   "execution_count": 2,
   "metadata": {},
   "outputs": [],
   "source": [
    "import math\n",
    "\n",
    "import pandas\n",
    "from neo4j import GraphDatabase\n",
    "import tqdm\n",
    "import hetnetpy.readwrite\n",
    "import hetnetpy.neo4j\n",
    "\n",
    "from src.database_utils import get_db_connection"
   ]
  },
  {
   "cell_type": "code",
   "execution_count": 4,
   "metadata": {},
   "outputs": [],
   "source": [
    "epilepsy_id = 'DOID:1826'\n",
    "\n",
    "# Get top ten most important metapaths for epilepsy (which are all compound-disease pairs)\n",
    "query = f'''\\\n",
    "SELECT\n",
    "    outer_pc.dwpc as dwpc,\n",
    "    outer_pc.p_value as p_value,\n",
    "    outer_pc.metapath_id as metapath_id,\n",
    "    top_ids.source_name as source_name,\n",
    "    top_ids.target_name as target_name\n",
    "FROM \n",
    "    (SELECT dwpc, p_value, metapath_id, source_id, target_id, n1.name AS source_name, n2.name AS target_name\n",
    "     FROM dj_hetmech_app_pathcount pc\n",
    "     JOIN dj_hetmech_app_node join_node\n",
    "         ON pc.target_id=join_node.id OR pc.source_id=join_node.id\n",
    "     JOIN dj_hetmech_app_node n1\n",
    "         ON pc.source_id = n1.id\n",
    "     JOIN dj_hetmech_app_node n2\n",
    "         ON pc.target_id = n2.id\n",
    "     WHERE join_node.identifier='{epilepsy_id}'\n",
    "     ORDER BY pc.p_value) AS top_ids\n",
    "JOIN dj_hetmech_app_pathcount outer_pc\n",
    "ON (top_ids.source_id = outer_pc.source_id AND\n",
    "    top_ids.target_id = outer_pc.target_id) OR\n",
    "    (top_ids.source_id = outer_pc.target_id AND\n",
    "    top_ids.target_id = outer_pc.source_id)\n",
    "ORDER BY outer_pc.p_value;\n",
    "'''\n",
    "\n",
    "connection = get_db_connection()\n",
    "top_metapaths = pandas.read_sql(query, connection)"
   ]
  },
  {
   "cell_type": "code",
   "execution_count": 5,
   "metadata": {},
   "outputs": [
    {
     "output_type": "stream",
     "name": "stdout",
     "text": [
      "2.16850343690863e-66\n"
     ]
    },
    {
     "output_type": "execute_result",
     "data": {
      "text/plain": [
       "          dwpc       p_value metapath_id            source_name  \\\n",
       "0     2.688242  2.168503e-66     DaGeAeG      epilepsy syndrome   \n",
       "2756  4.161765  2.168503e-66    DaGpBPpG      epilepsy syndrome   \n",
       "3595  4.567208  1.244179e-49    BPpGiGaD    cell-cell signaling   \n",
       "3622  2.918609  3.257078e-49     DaGuAuG      epilepsy syndrome   \n",
       "5413  4.570645  5.820618e-43    BPpGiGaD  synaptic transmission   \n",
       "\n",
       "            target_name  neg_log_p_value  \n",
       "0               NEUROG2        65.663840  \n",
       "2756               DRD1        65.663840  \n",
       "3595  epilepsy syndrome        48.905117  \n",
       "3622              STMN4        48.487172  \n",
       "5413  epilepsy syndrome        42.235031  "
      ],
      "text/html": "<div>\n<style scoped>\n    .dataframe tbody tr th:only-of-type {\n        vertical-align: middle;\n    }\n\n    .dataframe tbody tr th {\n        vertical-align: top;\n    }\n\n    .dataframe thead th {\n        text-align: right;\n    }\n</style>\n<table border=\"1\" class=\"dataframe\">\n  <thead>\n    <tr style=\"text-align: right;\">\n      <th></th>\n      <th>dwpc</th>\n      <th>p_value</th>\n      <th>metapath_id</th>\n      <th>source_name</th>\n      <th>target_name</th>\n      <th>neg_log_p_value</th>\n    </tr>\n  </thead>\n  <tbody>\n    <tr>\n      <th>0</th>\n      <td>2.688242</td>\n      <td>2.168503e-66</td>\n      <td>DaGeAeG</td>\n      <td>epilepsy syndrome</td>\n      <td>NEUROG2</td>\n      <td>65.663840</td>\n    </tr>\n    <tr>\n      <th>2756</th>\n      <td>4.161765</td>\n      <td>2.168503e-66</td>\n      <td>DaGpBPpG</td>\n      <td>epilepsy syndrome</td>\n      <td>DRD1</td>\n      <td>65.663840</td>\n    </tr>\n    <tr>\n      <th>3595</th>\n      <td>4.567208</td>\n      <td>1.244179e-49</td>\n      <td>BPpGiGaD</td>\n      <td>cell-cell signaling</td>\n      <td>epilepsy syndrome</td>\n      <td>48.905117</td>\n    </tr>\n    <tr>\n      <th>3622</th>\n      <td>2.918609</td>\n      <td>3.257078e-49</td>\n      <td>DaGuAuG</td>\n      <td>epilepsy syndrome</td>\n      <td>STMN4</td>\n      <td>48.487172</td>\n    </tr>\n    <tr>\n      <th>5413</th>\n      <td>4.570645</td>\n      <td>5.820618e-43</td>\n      <td>BPpGiGaD</td>\n      <td>synaptic transmission</td>\n      <td>epilepsy syndrome</td>\n      <td>42.235031</td>\n    </tr>\n  </tbody>\n</table>\n</div>"
     },
     "metadata": {},
     "execution_count": 5
    }
   ],
   "source": [
    "top_metapaths = top_metapaths.sort_values(by=['source_name', 'metapath_id'])\n",
    "\n",
    "# Ensure that you only have one copy of each (source_name, metapath_id) pair\n",
    "top_metapaths = top_metapaths.drop_duplicates(subset=['source_name', 'metapath_id'])\n",
    "\n",
    "top_metapaths = top_metapaths.sort_values(by='p_value')\n",
    "\n",
    "# Remove any rows with NaN values\n",
    "top_metapaths = top_metapaths.dropna()\n",
    "\n",
    "min_p_value = top_metapaths[top_metapaths.p_value != 0].p_value.min()\n",
    "\n",
    "top_metapaths.loc[top_metapaths.p_value == 0, 'p_value'] = min_p_value\n",
    "print(top_metapaths.p_value.min())\n",
    "\n",
    "top_metapaths['neg_log_p_value'] = top_metapaths.p_value.apply(lambda x: -math.log10(x))\n",
    "\n",
    "top_metapaths.head()"
   ]
  },
  {
   "cell_type": "code",
   "execution_count": null,
   "metadata": {},
   "outputs": [],
   "source": []
  },
  {
   "cell_type": "code",
   "execution_count": 6,
   "metadata": {},
   "outputs": [],
   "source": [
    "url = 'https://github.com/dhimmel/hetionet/raw/76550e6c93fbe92124edc71725e8c7dd4ca8b1f5/hetnet/json/hetionet-v1.0-metagraph.json'\n",
    "\n",
    "metagraph = hetnetpy.readwrite.read_metagraph(url)"
   ]
  },
  {
   "cell_type": "code",
   "execution_count": 7,
   "metadata": {},
   "outputs": [],
   "source": [
    "def get_paths_for_metapath(metagraph, row):\n",
    "    '''\n",
    "    Return a list of dictionaries containing the information for all paths with a given source, target, and metapath\n",
    "    \n",
    "    Parameters\n",
    "    ----------\n",
    "    metagraph : a hetnetpy.hetnet.Metagraph instance to interpret metapath abbreviations\n",
    "    row : a row from a pandas dataframe with information about the given metapath, source, and target\n",
    "    '''\n",
    "    damping_exponent = .5\n",
    "    \n",
    "    metapath_data = metagraph.metapath_from_abbrev(row['metapath_id'])\n",
    "\n",
    "    query = hetnetpy.neo4j.construct_pdp_query(metapath_data, path_style='string', property='name')\n",
    "\n",
    "    driver = GraphDatabase.driver(\"bolt://neo4j.het.io\")\n",
    "    params = {\n",
    "        'source': row['source_name'],\n",
    "        'target': row['target_name'],\n",
    "        'w': damping_exponent\n",
    "    }\n",
    "    with driver.session() as session:\n",
    "        metapath_result = session.run(query, params)\n",
    "        metapath_result = metapath_result.data()\n",
    "\n",
    "    for path in metapath_result:\n",
    "        path['metapath'] = row['metapath_id']\n",
    "        path['metapath_importance'] = row['neg_log_p_value']\n",
    "        path['path_importance'] = path['metapath_importance'] * path['percent_of_DWPC']\n",
    "        path['source'] = row['source_name']\n",
    "    \n",
    "    metapath_df = pandas.DataFrame(metapath_result)\n",
    "        \n",
    "    return metapath_df"
   ]
  },
  {
   "cell_type": "code",
   "execution_count": 9,
   "metadata": {},
   "outputs": [],
   "source": [
    "# For row in top_metapaths\n",
    "result_list = []\n",
    "\n",
    "for index, row in tqdm.tqdm_notebook(top_metapaths.iterrows(), total=len(top_metapaths.index)):\n",
    "    metapath_df = get_paths_for_metapath(metagraph, row)\n",
    "    result_list.append(metapath_df)\n",
    "result_df = pandas.concat(result_list, ignore_index=True)"
   ]
  },
  {
   "cell_type": "code",
   "execution_count": 25,
   "metadata": {},
   "outputs": [
    {
     "data": {
      "text/html": [
       "<div>\n",
       "<style scoped>\n",
       "    .dataframe tbody tr th:only-of-type {\n",
       "        vertical-align: middle;\n",
       "    }\n",
       "\n",
       "    .dataframe tbody tr th {\n",
       "        vertical-align: top;\n",
       "    }\n",
       "\n",
       "    .dataframe thead th {\n",
       "        text-align: right;\n",
       "    }\n",
       "</style>\n",
       "<table border=\"1\" class=\"dataframe\">\n",
       "  <thead>\n",
       "    <tr style=\"text-align: right;\">\n",
       "      <th></th>\n",
       "      <th>PDP</th>\n",
       "      <th>metapath</th>\n",
       "      <th>metapath_importance</th>\n",
       "      <th>path</th>\n",
       "      <th>path_importance</th>\n",
       "      <th>percent_of_DWPC</th>\n",
       "      <th>source</th>\n",
       "    </tr>\n",
       "  </thead>\n",
       "  <tbody>\n",
       "    <tr>\n",
       "      <th>1181486</th>\n",
       "      <td>0.011800</td>\n",
       "      <td>CbGaD</td>\n",
       "      <td>1.968488</td>\n",
       "      <td>Abacavir–ADK–epilepsy syndrome</td>\n",
       "      <td>196.848818</td>\n",
       "      <td>100.000000</td>\n",
       "      <td>Abacavir</td>\n",
       "    </tr>\n",
       "    <tr>\n",
       "      <th>1133753</th>\n",
       "      <td>0.000303</td>\n",
       "      <td>CbGdAlD</td>\n",
       "      <td>2.186818</td>\n",
       "      <td>Abacavir–ADH6–telencephalon–epilepsy syndrome</td>\n",
       "      <td>68.693397</td>\n",
       "      <td>31.412493</td>\n",
       "      <td>Abacavir</td>\n",
       "    </tr>\n",
       "    <tr>\n",
       "      <th>1133754</th>\n",
       "      <td>0.000155</td>\n",
       "      <td>CbGdAlD</td>\n",
       "      <td>2.186818</td>\n",
       "      <td>Abacavir–ADH6–medulla oblongata–epilepsy syndrome</td>\n",
       "      <td>35.187079</td>\n",
       "      <td>16.090540</td>\n",
       "      <td>Abacavir</td>\n",
       "    </tr>\n",
       "    <tr>\n",
       "      <th>1133755</th>\n",
       "      <td>0.000153</td>\n",
       "      <td>CbGdAlD</td>\n",
       "      <td>2.186818</td>\n",
       "      <td>Abacavir–ADH6–cerebellum–epilepsy syndrome</td>\n",
       "      <td>34.732125</td>\n",
       "      <td>15.882496</td>\n",
       "      <td>Abacavir</td>\n",
       "    </tr>\n",
       "    <tr>\n",
       "      <th>1410458</th>\n",
       "      <td>0.000846</td>\n",
       "      <td>CtDdGaD</td>\n",
       "      <td>1.106620</td>\n",
       "      <td>Abacavir–acquired immunodeficiency syndrome–HS...</td>\n",
       "      <td>24.962412</td>\n",
       "      <td>22.557351</td>\n",
       "      <td>Abacavir</td>\n",
       "    </tr>\n",
       "  </tbody>\n",
       "</table>\n",
       "</div>"
      ],
      "text/plain": [
       "              PDP metapath  metapath_importance  \\\n",
       "1181486  0.011800    CbGaD             1.968488   \n",
       "1133753  0.000303  CbGdAlD             2.186818   \n",
       "1133754  0.000155  CbGdAlD             2.186818   \n",
       "1133755  0.000153  CbGdAlD             2.186818   \n",
       "1410458  0.000846  CtDdGaD             1.106620   \n",
       "\n",
       "                                                      path  path_importance  \\\n",
       "1181486                     Abacavir–ADK–epilepsy syndrome       196.848818   \n",
       "1133753      Abacavir–ADH6–telencephalon–epilepsy syndrome        68.693397   \n",
       "1133754  Abacavir–ADH6–medulla oblongata–epilepsy syndrome        35.187079   \n",
       "1133755         Abacavir–ADH6–cerebellum–epilepsy syndrome        34.732125   \n",
       "1410458  Abacavir–acquired immunodeficiency syndrome–HS...        24.962412   \n",
       "\n",
       "         percent_of_DWPC    source  \n",
       "1181486       100.000000  Abacavir  \n",
       "1133753        31.412493  Abacavir  \n",
       "1133754        16.090540  Abacavir  \n",
       "1133755        15.882496  Abacavir  \n",
       "1410458        22.557351  Abacavir  "
      ]
     },
     "execution_count": 25,
     "metadata": {},
     "output_type": "execute_result"
    }
   ],
   "source": [
    "result_df = result_df.sort_values(by=['source', 'path_importance', 'metapath'], ascending=[True, False, True])\n",
    "result_df.head()"
   ]
  },
  {
   "cell_type": "code",
   "execution_count": 27,
   "metadata": {},
   "outputs": [],
   "source": [
    "result_df.to_csv('data/epilepsy_paths.tsv.gz', index=False, sep='\\t')"
   ]
  }
 ],
 "metadata": {
  "kernelspec": {
   "name": "python3",
   "display_name": "Python 3.8.6 64-bit ('hetmech': conda)",
   "metadata": {
    "interpreter": {
     "hash": "7930732c47ff7bc510c3ef148c3531b58bbb5959824d8379c0a7410ba3e9f87c"
    }
   }
  },
  "language_info": {
   "codemirror_mode": {
    "name": "ipython",
    "version": 3
   },
   "file_extension": ".py",
   "mimetype": "text/x-python",
   "name": "python",
   "nbconvert_exporter": "python",
   "pygments_lexer": "ipython3",
   "version": "3.8.6-final"
  }
 },
 "nbformat": 4,
 "nbformat_minor": 2
}