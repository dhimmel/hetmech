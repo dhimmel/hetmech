{
 "cells": [
  {
   "cell_type": "markdown",
   "metadata": {},
   "source": [
    "# Prominent paths originating from epilepsy to a Compound"
   ]
  },
  {
   "cell_type": "code",
   "execution_count": 1,
   "metadata": {},
   "outputs": [],
   "source": [
    "import math\n",
    "\n",
    "import pandas\n",
    "from neo4j import GraphDatabase\n",
    "from tqdm.notebook import tqdm\n",
    "import hetnetpy.readwrite\n",
    "import hetnetpy.neo4j\n",
    "\n",
    "from src.database_utils import get_db_connection"
   ]
  },
  {
   "cell_type": "code",
   "execution_count": 2,
   "metadata": {},
   "outputs": [],
   "source": [
    "epilepsy_id = 'DOID:1826'\n",
    "\n",
    "# Get top ten most important metapaths for Compound-epilepsy\n",
    "query = f'''\\\n",
    "SELECT\n",
    "    outer_pc.dwpc as dwpc,\n",
    "    outer_pc.p_value as p_value,\n",
    "    outer_pc.metapath_id as metapath_id,\n",
    "    top_ids.source_name as source_name,\n",
    "    top_ids.target_name as target_name\n",
    "FROM (\n",
    "    SELECT dwpc, p_value, metapath_id, source_id, target_id, n1.name AS source_name, n2.name AS target_name\n",
    "    FROM dj_hetmech_app_pathcount pc\n",
    "    JOIN dj_hetmech_app_node join_node\n",
    "     ON pc.target_id=join_node.id OR pc.source_id=join_node.id\n",
    "    JOIN dj_hetmech_app_node n1\n",
    "     ON pc.source_id = n1.id\n",
    "    JOIN dj_hetmech_app_node n2\n",
    "     ON pc.target_id = n2.id\n",
    "    WHERE join_node.identifier='{epilepsy_id}' AND (n1.metanode_id = 'Compound' OR n2.metanode_id = 'Compound')\n",
    "    ORDER BY pc.p_value\n",
    ") AS top_ids\n",
    "JOIN dj_hetmech_app_pathcount outer_pc\n",
    "ON (top_ids.source_id = outer_pc.source_id AND\n",
    "    top_ids.target_id = outer_pc.target_id) OR\n",
    "    (top_ids.source_id = outer_pc.target_id AND\n",
    "    top_ids.target_id = outer_pc.source_id)\n",
    "ORDER BY outer_pc.p_value;\n",
    "'''\n",
    "\n",
    "with get_db_connection() as connection:\n",
    "    top_metapaths = pandas.read_sql(query, connection)"
   ]
  },
  {
   "cell_type": "code",
   "execution_count": 3,
   "metadata": {},
   "outputs": [
    {
     "name": "stdout",
     "output_type": "stream",
     "text": [
      "3.1318111315557476e-17\n"
     ]
    },
    {
     "data": {
      "text/html": [
       "<div>\n",
       "<style scoped>\n",
       "    .dataframe tbody tr th:only-of-type {\n",
       "        vertical-align: middle;\n",
       "    }\n",
       "\n",
       "    .dataframe tbody tr th {\n",
       "        vertical-align: top;\n",
       "    }\n",
       "\n",
       "    .dataframe thead th {\n",
       "        text-align: right;\n",
       "    }\n",
       "</style>\n",
       "<table border=\"1\" class=\"dataframe\">\n",
       "  <thead>\n",
       "    <tr style=\"text-align: right;\">\n",
       "      <th></th>\n",
       "      <th>dwpc</th>\n",
       "      <th>p_value</th>\n",
       "      <th>metapath_id</th>\n",
       "      <th>source_name</th>\n",
       "      <th>target_name</th>\n",
       "      <th>neg_log_p_value</th>\n",
       "    </tr>\n",
       "  </thead>\n",
       "  <tbody>\n",
       "    <tr>\n",
       "      <th>0</th>\n",
       "      <td>3.509434</td>\n",
       "      <td>3.131811e-17</td>\n",
       "      <td>CcSEcCtD</td>\n",
       "      <td>Nitrazepam</td>\n",
       "      <td>epilepsy syndrome</td>\n",
       "      <td>16.504204</td>\n",
       "    </tr>\n",
       "    <tr>\n",
       "      <th>19</th>\n",
       "      <td>3.296422</td>\n",
       "      <td>5.733828e-17</td>\n",
       "      <td>CcSEcCtD</td>\n",
       "      <td>Bromazepam</td>\n",
       "      <td>epilepsy syndrome</td>\n",
       "      <td>16.241555</td>\n",
       "    </tr>\n",
       "    <tr>\n",
       "      <th>31</th>\n",
       "      <td>3.579689</td>\n",
       "      <td>7.032840e-17</td>\n",
       "      <td>CcSEcCtD</td>\n",
       "      <td>Lorazepam</td>\n",
       "      <td>epilepsy syndrome</td>\n",
       "      <td>16.152869</td>\n",
       "    </tr>\n",
       "    <tr>\n",
       "      <th>52</th>\n",
       "      <td>3.369589</td>\n",
       "      <td>7.210640e-17</td>\n",
       "      <td>CcSEcCtD</td>\n",
       "      <td>Phenobarbital</td>\n",
       "      <td>epilepsy syndrome</td>\n",
       "      <td>16.142026</td>\n",
       "    </tr>\n",
       "    <tr>\n",
       "      <th>68</th>\n",
       "      <td>3.346266</td>\n",
       "      <td>2.518406e-16</td>\n",
       "      <td>CcSEcCtD</td>\n",
       "      <td>Ezogabine</td>\n",
       "      <td>epilepsy syndrome</td>\n",
       "      <td>15.598874</td>\n",
       "    </tr>\n",
       "  </tbody>\n",
       "</table>\n",
       "</div>"
      ],
      "text/plain": [
       "        dwpc       p_value metapath_id    source_name        target_name  \\\n",
       "0   3.509434  3.131811e-17    CcSEcCtD     Nitrazepam  epilepsy syndrome   \n",
       "19  3.296422  5.733828e-17    CcSEcCtD     Bromazepam  epilepsy syndrome   \n",
       "31  3.579689  7.032840e-17    CcSEcCtD      Lorazepam  epilepsy syndrome   \n",
       "52  3.369589  7.210640e-17    CcSEcCtD  Phenobarbital  epilepsy syndrome   \n",
       "68  3.346266  2.518406e-16    CcSEcCtD      Ezogabine  epilepsy syndrome   \n",
       "\n",
       "    neg_log_p_value  \n",
       "0         16.504204  \n",
       "19        16.241555  \n",
       "31        16.152869  \n",
       "52        16.142026  \n",
       "68        15.598874  "
      ]
     },
     "execution_count": 3,
     "metadata": {},
     "output_type": "execute_result"
    }
   ],
   "source": [
    "top_metapaths = top_metapaths.sort_values(by=['source_name', 'metapath_id'])\n",
    "\n",
    "# Ensure that you only have one copy of each (source_name, metapath_id) pair\n",
    "top_metapaths = top_metapaths.drop_duplicates(subset=['source_name', 'metapath_id'])\n",
    "top_metapaths = top_metapaths.sort_values(by='p_value')\n",
    "# Remove any rows with NaN values\n",
    "top_metapaths = top_metapaths.dropna()\n",
    "min_p_value = top_metapaths[top_metapaths.p_value != 0].p_value.min()\n",
    "top_metapaths.loc[top_metapaths.p_value == 0, 'p_value'] = min_p_value\n",
    "print(top_metapaths.p_value.min())\n",
    "top_metapaths['neg_log_p_value'] = top_metapaths.p_value.apply(lambda x: -math.log10(x))\n",
    "top_metapaths.head()"
   ]
  },
  {
   "cell_type": "code",
   "execution_count": 4,
   "metadata": {},
   "outputs": [],
   "source": [
    "url = 'https://github.com/hetio/hetionet/raw/76550e6c93fbe92124edc71725e8c7dd4ca8b1f5/hetnet/json/hetionet-v1.0-metagraph.json'\n",
    "metagraph = hetnetpy.readwrite.read_metagraph(url)"
   ]
  },
  {
   "cell_type": "code",
   "execution_count": 5,
   "metadata": {},
   "outputs": [],
   "source": [
    "def get_paths_for_metapath(metagraph, row):\n",
    "    '''\n",
    "    Return a list of dictionaries containing the information for all paths with a given source, target, and metapath\n",
    "    \n",
    "    Parameters\n",
    "    ----------\n",
    "    metagraph : a hetnetpy.hetnet.Metagraph instance to interpret metapath abbreviations\n",
    "    row : a row from a pandas dataframe with information about the given metapath, source, and target\n",
    "    '''\n",
    "    damping_exponent = .5\n",
    "    \n",
    "    metapath_data = metagraph.metapath_from_abbrev(row['metapath_id'])\n",
    "\n",
    "    query = hetnetpy.neo4j.construct_pdp_query(metapath_data, path_style='string', property='name')\n",
    "\n",
    "    driver = GraphDatabase.driver(\"bolt://neo4j.het.io\")\n",
    "    params = {\n",
    "        'source': row['source_name'],\n",
    "        'target': row['target_name'],\n",
    "        'w': damping_exponent\n",
    "    }\n",
    "    with driver.session() as session:\n",
    "        metapath_result = session.run(query, params)\n",
    "        metapath_result = metapath_result.data()\n",
    "\n",
    "    for path in metapath_result:\n",
    "        path['metapath'] = row['metapath_id']\n",
    "        path['metapath_importance'] = row['neg_log_p_value']\n",
    "        path['path_importance'] = path['metapath_importance'] * path['percent_of_DWPC']\n",
    "        path['source'] = row['source_name']\n",
    "    \n",
    "    metapath_df = pandas.DataFrame(metapath_result)\n",
    "        \n",
    "    return metapath_df"
   ]
  },
  {
   "cell_type": "code",
   "execution_count": 6,
   "metadata": {},
   "outputs": [
    {
     "data": {
      "application/vnd.jupyter.widget-view+json": {
       "model_id": "4af95dac7721421a97ad55cf6e302841",
       "version_major": 2,
       "version_minor": 0
      },
      "text/plain": [
       "  0%|          | 0/26281 [00:00<?, ?it/s]"
      ]
     },
     "metadata": {},
     "output_type": "display_data"
    },
    {
     "name": "stdout",
     "output_type": "stream",
     "text": [
      "CPU times: user 8min 47s, sys: 37.7 s, total: 9min 24s\n",
      "Wall time: 2h 47min 25s\n"
     ]
    }
   ],
   "source": [
    "%%time\n",
    "# For row in top_metapaths\n",
    "result_list = []\n",
    "for index, row in tqdm(top_metapaths.iterrows(), total=len(top_metapaths.index)):\n",
    "    metapath_df = get_paths_for_metapath(metagraph, row)\n",
    "    result_list.append(metapath_df)\n",
    "result_df = pandas.concat(result_list, ignore_index=True)"
   ]
  },
  {
   "cell_type": "code",
   "execution_count": 7,
   "metadata": {},
   "outputs": [
    {
     "data": {
      "text/html": [
       "<div>\n",
       "<style scoped>\n",
       "    .dataframe tbody tr th:only-of-type {\n",
       "        vertical-align: middle;\n",
       "    }\n",
       "\n",
       "    .dataframe tbody tr th {\n",
       "        vertical-align: top;\n",
       "    }\n",
       "\n",
       "    .dataframe thead th {\n",
       "        text-align: right;\n",
       "    }\n",
       "</style>\n",
       "<table border=\"1\" class=\"dataframe\">\n",
       "  <thead>\n",
       "    <tr style=\"text-align: right;\">\n",
       "      <th></th>\n",
       "      <th>path</th>\n",
       "      <th>PDP</th>\n",
       "      <th>percent_of_DWPC</th>\n",
       "      <th>metapath</th>\n",
       "      <th>metapath_importance</th>\n",
       "      <th>path_importance</th>\n",
       "      <th>source</th>\n",
       "    </tr>\n",
       "  </thead>\n",
       "  <tbody>\n",
       "    <tr>\n",
       "      <th>1181715</th>\n",
       "      <td>Abacavir–ADK–epilepsy syndrome</td>\n",
       "      <td>0.011800</td>\n",
       "      <td>100.000000</td>\n",
       "      <td>CbGaD</td>\n",
       "      <td>1.968488</td>\n",
       "      <td>196.848818</td>\n",
       "      <td>Abacavir</td>\n",
       "    </tr>\n",
       "    <tr>\n",
       "      <th>1133896</th>\n",
       "      <td>Abacavir–ADH6–telencephalon–epilepsy syndrome</td>\n",
       "      <td>0.000303</td>\n",
       "      <td>31.412493</td>\n",
       "      <td>CbGdAlD</td>\n",
       "      <td>2.186818</td>\n",
       "      <td>68.693397</td>\n",
       "      <td>Abacavir</td>\n",
       "    </tr>\n",
       "    <tr>\n",
       "      <th>1486191</th>\n",
       "      <td>Abacavir–Cladribine–FOSB–epilepsy syndrome</td>\n",
       "      <td>0.000369</td>\n",
       "      <td>70.246011</td>\n",
       "      <td>CrCuGaD</td>\n",
       "      <td>0.936220</td>\n",
       "      <td>65.765728</td>\n",
       "      <td>Abacavir</td>\n",
       "    </tr>\n",
       "    <tr>\n",
       "      <th>1590278</th>\n",
       "      <td>Abacavir–ADK–CASP2–epilepsy syndrome</td>\n",
       "      <td>0.000138</td>\n",
       "      <td>64.897153</td>\n",
       "      <td>CbGr&gt;GaD</td>\n",
       "      <td>0.724127</td>\n",
       "      <td>46.993812</td>\n",
       "      <td>Abacavir</td>\n",
       "    </tr>\n",
       "    <tr>\n",
       "      <th>1133897</th>\n",
       "      <td>Abacavir–ADH6–medulla oblongata–epilepsy syndrome</td>\n",
       "      <td>0.000155</td>\n",
       "      <td>16.090540</td>\n",
       "      <td>CbGdAlD</td>\n",
       "      <td>2.186818</td>\n",
       "      <td>35.187079</td>\n",
       "      <td>Abacavir</td>\n",
       "    </tr>\n",
       "  </tbody>\n",
       "</table>\n",
       "</div>"
      ],
      "text/plain": [
       "                                                      path       PDP  \\\n",
       "1181715                     Abacavir–ADK–epilepsy syndrome  0.011800   \n",
       "1133896      Abacavir–ADH6–telencephalon–epilepsy syndrome  0.000303   \n",
       "1486191         Abacavir–Cladribine–FOSB–epilepsy syndrome  0.000369   \n",
       "1590278               Abacavir–ADK–CASP2–epilepsy syndrome  0.000138   \n",
       "1133897  Abacavir–ADH6–medulla oblongata–epilepsy syndrome  0.000155   \n",
       "\n",
       "         percent_of_DWPC  metapath  metapath_importance  path_importance  \\\n",
       "1181715       100.000000     CbGaD             1.968488       196.848818   \n",
       "1133896        31.412493   CbGdAlD             2.186818        68.693397   \n",
       "1486191        70.246011   CrCuGaD             0.936220        65.765728   \n",
       "1590278        64.897153  CbGr>GaD             0.724127        46.993812   \n",
       "1133897        16.090540   CbGdAlD             2.186818        35.187079   \n",
       "\n",
       "           source  \n",
       "1181715  Abacavir  \n",
       "1133896  Abacavir  \n",
       "1486191  Abacavir  \n",
       "1590278  Abacavir  \n",
       "1133897  Abacavir  "
      ]
     },
     "execution_count": 7,
     "metadata": {},
     "output_type": "execute_result"
    }
   ],
   "source": [
    "result_df = result_df.sort_values(by=['source', 'path_importance', 'metapath'], ascending=[True, False, True])\n",
    "result_df.head()"
   ]
  },
  {
   "cell_type": "code",
   "execution_count": 8,
   "metadata": {},
   "outputs": [],
   "source": [
    "result_df.to_csv('data/epilepsy_paths.tsv.xz', index=False, sep='\\t', float_format=\"%.5g\")"
   ]
  }
 ],
 "metadata": {
  "kernelspec": {
   "display_name": "Python 3",
   "language": "python",
   "name": "python3"
  },
  "language_info": {
   "codemirror_mode": {
    "name": "ipython",
    "version": 3
   },
   "file_extension": ".py",
   "mimetype": "text/x-python",
   "name": "python",
   "nbconvert_exporter": "python",
   "pygments_lexer": "ipython3",
   "version": "3.8.6"
  }
 },
 "nbformat": 4,
 "nbformat_minor": 2
}
