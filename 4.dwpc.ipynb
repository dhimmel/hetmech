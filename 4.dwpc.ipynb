{
 "cells": [
  {
   "cell_type": "markdown",
   "metadata": {},
   "source": [
    "# Proof of concept DWWC matrix computation"
   ]
  },
  {
   "cell_type": "code",
   "execution_count": 1,
   "metadata": {
    "collapsed": true
   },
   "outputs": [],
   "source": [
    "import pandas\n",
    "from neo4j.v1 import GraphDatabase\n",
    "import hetio.readwrite\n",
    "import hetio.neo4j\n",
    "import hetio.pathtools\n",
    "\n",
    "from hetmech.degree_weight import dwwc\n",
    "from hetmech.matrix import get_node_to_position"
   ]
  },
  {
   "cell_type": "code",
   "execution_count": 2,
   "metadata": {
    "collapsed": true
   },
   "outputs": [],
   "source": [
    "url = 'https://github.com/dhimmel/hetionet/raw/76550e6c93fbe92124edc71725e8c7dd4ca8b1f5/hetnet/json/hetionet-v1.0.json.bz2'\n",
    "graph = hetio.readwrite.read_graph(url)\n",
    "metagraph = graph.metagraph"
   ]
  },
  {
   "cell_type": "code",
   "execution_count": 3,
   "metadata": {},
   "outputs": [
    {
     "data": {
      "text/plain": [
       "'Compound–binds–Gene–participates–Pathway–participates–Gene–associates–Disease'"
      ]
     },
     "execution_count": 3,
     "metadata": {},
     "output_type": "execute_result"
    }
   ],
   "source": [
    "compound = 'DB01156'  # Bupropion\n",
    "disease = 'DOID:0050742'  # nicotine dependences\n",
    "\n",
    "damping_exponent = 0.4\n",
    "\n",
    "# CbGpPWpGaD contains duplicate metanodes, so DWPC is not equivalent to DWPC\n",
    "metapath = metagraph.metapath_from_abbrev('CbGpPWpGaD')\n",
    "metapath.get_unicode_str()"
   ]
  },
  {
   "cell_type": "code",
   "execution_count": 4,
   "metadata": {},
   "outputs": [
    {
     "name": "stdout",
     "output_type": "stream",
     "text": [
      "CPU times: user 16.4 s, sys: 514 ms, total: 16.9 s\n",
      "Wall time: 10.8 s\n"
     ]
    }
   ],
   "source": [
    "%%time\n",
    "CbGpPWpGaD_pc = dwwc(graph, metapath, damping=0).astype(int)\n",
    "CbGpPWpGaD_dwwc = dwwc(graph, metapath, damping=damping_exponent)"
   ]
  },
  {
   "cell_type": "code",
   "execution_count": 5,
   "metadata": {},
   "outputs": [
    {
     "data": {
      "text/plain": [
       "(1552, 137)"
      ]
     },
     "execution_count": 5,
     "metadata": {},
     "output_type": "execute_result"
    }
   ],
   "source": [
    "CbGpPWpGaD_dwwc.shape"
   ]
  },
  {
   "cell_type": "code",
   "execution_count": 6,
   "metadata": {},
   "outputs": [
    {
     "data": {
      "text/plain": [
       "0.8040061328918654"
      ]
     },
     "execution_count": 6,
     "metadata": {},
     "output_type": "execute_result"
    }
   ],
   "source": [
    "# Density\n",
    "CbGpPWpGaD_pc.astype(bool).mean()"
   ]
  },
  {
   "cell_type": "code",
   "execution_count": 7,
   "metadata": {},
   "outputs": [
    {
     "data": {
      "text/plain": [
       "array([[  11,   13,  192, ...,   40,    0,  758],\n",
       "       [  23,   30,  400, ...,   77,    0, 1929],\n",
       "       [  11,   13,  192, ...,   40,    0,  758],\n",
       "       ..., \n",
       "       [   0,    0,    0, ...,    0,    0,    0],\n",
       "       [   5,    7,   97, ...,   22,    0,  352],\n",
       "       [   0,    3,  114, ...,    0,    0,  156]])"
      ]
     },
     "execution_count": 7,
     "metadata": {},
     "output_type": "execute_result"
    }
   ],
   "source": [
    "# Path count matrix\n",
    "CbGpPWpGaD_pc"
   ]
  },
  {
   "cell_type": "code",
   "execution_count": 8,
   "metadata": {},
   "outputs": [
    {
     "data": {
      "text/plain": [
       "array([[ 0.00074141,  0.00057174,  0.01138872, ...,  0.00350678,\n",
       "         0.        ,  0.02075716],\n",
       "       [ 0.00057175,  0.00088381,  0.01745733, ...,  0.0050468 ,\n",
       "         0.        ,  0.03172209],\n",
       "       [ 0.00074141,  0.00057174,  0.01138872, ...,  0.00350678,\n",
       "         0.        ,  0.02075716],\n",
       "       ..., \n",
       "       [ 0.        ,  0.        ,  0.        , ...,  0.        ,\n",
       "         0.        ,  0.        ],\n",
       "       [ 0.0003131 ,  0.00071464,  0.01298882, ...,  0.00495461,\n",
       "         0.        ,  0.01838852],\n",
       "       [ 0.        ,  0.00025659,  0.00779677, ...,  0.        ,\n",
       "         0.        ,  0.00381554]])"
      ]
     },
     "execution_count": 8,
     "metadata": {},
     "output_type": "execute_result"
    }
   ],
   "source": [
    "# DWWC matrix\n",
    "CbGpPWpGaD_dwwc"
   ]
  },
  {
   "cell_type": "code",
   "execution_count": 9,
   "metadata": {
    "collapsed": true
   },
   "outputs": [],
   "source": [
    "compound_to_position = {x.identifier: i for x, i in get_node_to_position(graph, 'Compound').items()}\n",
    "disease_to_position = {x.identifier: i for x, i in get_node_to_position(graph, 'Disease').items()}\n",
    "i = compound_to_position[compound]\n",
    "j = disease_to_position[disease]"
   ]
  },
  {
   "cell_type": "code",
   "execution_count": 10,
   "metadata": {},
   "outputs": [
    {
     "data": {
      "text/plain": [
       "152"
      ]
     },
     "execution_count": 10,
     "metadata": {},
     "output_type": "execute_result"
    }
   ],
   "source": [
    "# Path count\n",
    "CbGpPWpGaD_pc[i, j]"
   ]
  },
  {
   "cell_type": "code",
   "execution_count": 11,
   "metadata": {},
   "outputs": [
    {
     "data": {
      "text/plain": [
       "0.038040121429465001"
      ]
     },
     "execution_count": 11,
     "metadata": {},
     "output_type": "execute_result"
    }
   ],
   "source": [
    "# degree-weighted walk count\n",
    "CbGpPWpGaD_dwwc[i, j]"
   ]
  },
  {
   "cell_type": "markdown",
   "metadata": {},
   "source": [
    "### Cypher DWPC implementation"
   ]
  },
  {
   "cell_type": "code",
   "execution_count": 12,
   "metadata": {},
   "outputs": [
    {
     "name": "stdout",
     "output_type": "stream",
     "text": [
      "MATCH path = (n0:Compound)-[:BINDS_CbG]-(n1)-[:PARTICIPATES_GpPW]-(n2)-[:PARTICIPATES_GpPW]-(n3)-[:ASSOCIATES_DaG]-(n4:Disease)\n",
      "USING JOIN ON n2\n",
      "WHERE n0.identifier = { source }\n",
      "AND n4.identifier = { target }\n",
      "AND n1 <> n3\n",
      "WITH\n",
      "[\n",
      "size((n0)-[:BINDS_CbG]-()),\n",
      "size(()-[:BINDS_CbG]-(n1)),\n",
      "size((n1)-[:PARTICIPATES_GpPW]-()),\n",
      "size(()-[:PARTICIPATES_GpPW]-(n2)),\n",
      "size((n2)-[:PARTICIPATES_GpPW]-()),\n",
      "size(()-[:PARTICIPATES_GpPW]-(n3)),\n",
      "size((n3)-[:ASSOCIATES_DaG]-()),\n",
      "size(()-[:ASSOCIATES_DaG]-(n4))\n",
      "] AS degrees, path\n",
      "RETURN\n",
      "count(path) AS PC,\n",
      "sum(reduce(pdp = 1.0, d in degrees| pdp * d ^ -{ w })) AS DWPC\n"
     ]
    }
   ],
   "source": [
    "query = hetio.neo4j.construct_dwpc_query(metapath, property='identifier', unique_nodes=True)\n",
    "print(query)"
   ]
  },
  {
   "cell_type": "code",
   "execution_count": 61,
   "metadata": {},
   "outputs": [
    {
     "data": {
      "text/plain": [
       "<Record PC=142 DWPC=0.03287590886921623>"
      ]
     },
     "execution_count": 61,
     "metadata": {},
     "output_type": "execute_result"
    }
   ],
   "source": [
    "driver = GraphDatabase.driver(\"bolt://neo4j.het.io\")\n",
    "params = {\n",
    "    'source': compound,\n",
    "    'target': disease,\n",
    "    'w': damping_exponent,\n",
    "}\n",
    "with driver.session() as session:\n",
    "    result = session.run(query, params)\n",
    "    result = result.single()\n",
    "result"
   ]
  },
  {
   "cell_type": "markdown",
   "metadata": {},
   "source": [
    "### hetio DWPC implementation"
   ]
  },
  {
   "cell_type": "code",
   "execution_count": 62,
   "metadata": {
    "collapsed": true
   },
   "outputs": [],
   "source": [
    "compound_id = 'Compound', compound\n",
    "disease_id = 'Disease', disease\n",
    "paths = hetio.pathtools.paths_between(\n",
    "    graph, \n",
    "    source=graph.node_dict[compound_id],\n",
    "    target=graph.node_dict[disease_id],\n",
    "    metapath=metapath,\n",
    "    duplicates=False,\n",
    ")"
   ]
  },
  {
   "cell_type": "code",
   "execution_count": 63,
   "metadata": {},
   "outputs": [
    {
     "data": {
      "text/plain": [
       "142"
      ]
     },
     "execution_count": 63,
     "metadata": {},
     "output_type": "execute_result"
    }
   ],
   "source": [
    "# Path count\n",
    "len(paths)"
   ]
  },
  {
   "cell_type": "code",
   "execution_count": 64,
   "metadata": {
    "collapsed": true
   },
   "outputs": [],
   "source": [
    "# DWPC\n",
    "dwpc_hetio = hetio.pathtools.DWPC(paths, damping_exponent=damping_exponent)"
   ]
  },
  {
   "cell_type": "code",
   "execution_count": 65,
   "metadata": {
    "collapsed": true
   },
   "outputs": [],
   "source": [
    "import numpy\n",
    "import collections\n",
    "from scipy.sparse import csr_matrix\n",
    "import scipy.sparse\n",
    "\n",
    "from hetmech.matrix import metaedge_to_adjacency_matrix\n",
    "from hetmech.degree_weight import dwwc_step\n",
    "\n",
    "\n",
    "\n",
    "def dwpc(graph, metapath, damping=1.0):\n",
    "    \"\"\"\n",
    "    Compute the degree-weighted path count (DWPC).\n",
    "    First checks that no more than one metanode type is repeated.\n",
    "    \"\"\"\n",
    "    print(\"Calling DWPC\")\n",
    "    dwpc_matrix = None\n",
    "    # First read through sequence of metanode types\n",
    "    nodetype_sequence = collections.defaultdict(int)\n",
    "    for metaedge in metapath:\n",
    "        # metanodes = metaedge.get_nodes()\n",
    "        nodetype_sequence[metaedge.source] += 1\n",
    "        nodetype_sequence[metaedge.target] += 1\n",
    "    # Identify the repeated node type\n",
    "    # and check that no more than 1 metanodetype is repeated\n",
    "    repeated_node = filter(lambda x: nodetype_sequence[x] > 2,\n",
    "                           nodetype_sequence)\n",
    "    repeated_node = list(repeated_node)\n",
    "    if len(repeated_node) > 1:\n",
    "        print(\"Input metapath repeats more than one nodetype\")\n",
    "        return dwpc_matrix\n",
    "\n",
    "    elif len(repeated_node) == 0:\n",
    "        print(\"Input metapath has no repeated nodetypes\")\n",
    "        # Now perform multiplications\n",
    "        for metaedge in metapath:\n",
    "            adj_mat = metaedge_to_adjacency_matrix(graph, metaedge)\n",
    "            adj_mat = dwwc_step(adj_mat, damping, damping)\n",
    "            if dwpc_matrix is None:\n",
    "                dwpc_matrix = csr_matrix(adj_mat)\n",
    "            else:\n",
    "                dwpc_matrix = dwpc_matrix @ adj_mat\n",
    "    else:\n",
    "        # Determine start/endpoints for left,loop,right\n",
    "        print(\"Input metapath repeats exactly one nodetype\")\n",
    "        print(\"Repeated node list: {}, type {}\".format(repeated_node, repeated_node[0]))\n",
    "        \n",
    "        first_appearance = None\n",
    "        last_appearance = None\n",
    "        for idx, metaedge in enumerate(metapath):\n",
    "            if repeated_node[0] == metaedge.source:\n",
    "                if first_appearance is None:\n",
    "                    first_appearance = idx\n",
    "            if repeated_node[0] == metaedge.target:\n",
    "                last_appearance = idx\n",
    "        print(\"metapath has {} nodes, and {} are the repeated ones\"\n",
    "              \"\".format(len(metapath),[first_appearance, last_appearance]))\n",
    "\n",
    "        # Handle head\n",
    "        left_matrix = None\n",
    "        for idx, metaedge in enumerate(metapath):\n",
    "            print(\"\\tWorking on {}\".format(idx))\n",
    "            adj_mat = metaedge_to_adjacency_matrix(graph, metaedge)\n",
    "            adj_mat = dwwc_step(adj_mat, damping, damping)\n",
    "            adj_mat = csr_matrix(adj_mat)\n",
    "            # metanodes = metaedge.get_nodes()\n",
    "            if idx < first_appearance:  # haven't seen repeatednode yet\n",
    "                print(\"\\t\\tleft_matrix {}\".format(idx))\n",
    "                if left_matrix is None:\n",
    "                    print(\"\\t\\tleft_matrix {} initialize; shape adj {}\".format(idx, adj_mat.shape))\n",
    "                    left_matrix = csr_matrix(adj_mat)\n",
    "                else:\n",
    "                    print(\"\\t\\tleft_matrix {} multiply; shape left {} ; shape adj {}\".format(idx, left_matrix.shape, adj_mat.shape))\n",
    "                    print(\"\\t\\tType of left_matrix before = {}\".format(type(left_matrix)))\n",
    "                    left_matrix = left_matrix @ adj_mat\n",
    "            elif idx <= last_appearance:  # i.e. metanodes[0] = repeatednode\n",
    "                print(\"\\t\\tloop_matrix {}\".format(idx))\n",
    "                if dwpc_matrix is None:\n",
    "                    print(\"\\t\\tloop_matrix {} initialize; shape adj {}\".format(idx, adj_mat.shape))\n",
    "                    dwpc_matrix = csr_matrix(adj_mat)\n",
    "                else:\n",
    "                    print(\"\\t\\tloop_matrix {} multiply; shape loop {} ; shape adj {}\".format(idx, dwpc_matrix.shape, adj_mat.shape))\n",
    "                    print(\"\\t\\tType of loop_matrix before = {}\".format(type(dwpc_matrix)))\n",
    "                    adj_mat = csr_matrix(adj_mat)\n",
    "                    dwpc_matrix = dwpc_matrix @ adj_mat\n",
    "                    # if endpoints are same type, subtract diagonal after mult\n",
    "                    if metaedge.target == repeated_node[0]:\n",
    "                        print(\"\\tsubtracting diag {} \".format(idx))\n",
    "                        # np.diag(diagonals[0], offsets[0])\n",
    "                        # scipy version here\n",
    "                        print(dwpc_matrix.diagonal().shape)\n",
    "                        dwpc_matrix -= scipy.sparse.diags( [dwpc_matrix.diagonal()], [0] )\n",
    "            else:\n",
    "                print(\"\\t\\ttail_matrix {}\".format(idx))\n",
    "                dwpc_matrix = dwpc_matrix @ adj_mat\n",
    "\n",
    "    return left_matrix @ dwpc_matrix"
   ]
  },
  {
   "cell_type": "code",
   "execution_count": 70,
   "metadata": {},
   "outputs": [
    {
     "name": "stdout",
     "output_type": "stream",
     "text": [
      "Calling DWPC\n",
      "dwpc_matrix shape (1552, 137)\n",
      "dwpc from i to j, as computed here:     0.032875908869216215\n",
      "dwpc from i to j, as computed by hetio: 0.03287590886921623\n"
     ]
    }
   ],
   "source": [
    "from hetmech.path_count import dwpc\n",
    "dwpc_matrix = dwpc(graph, metapath, damping_exponent)\n",
    "\n",
    "print(\"dwpc_matrix shape {}\".format(dwpc_matrix.shape))\n",
    "print(\"dwpc from i to j, as computed here:     {}\".format(dwpc_matrix[i,j]))\n",
    "print(\"dwpc from i to j, as computed by hetio: {}\".format(dwpc_hetio))"
   ]
  },
  {
   "cell_type": "code",
   "execution_count": 71,
   "metadata": {},
   "outputs": [
    {
     "name": "stdout",
     "output_type": "stream",
     "text": [
      "Calling DWPC\n",
      "dwpc_matrix shape (1552, 137)\n",
      "path count from i to j, as computed here:     142.0\n",
      "dwpc path count i to j, as computed by hetio: 142\n"
     ]
    }
   ],
   "source": [
    "dwpc_matrix = dwpc(graph, metapath, 0)\n",
    "\n",
    "print(\"dwpc_matrix shape {}\".format(dwpc_matrix.shape))\n",
    "print(\"path count from i to j, as computed here:     {}\".format(dwpc_matrix[i,j]))\n",
    "print(\"dwpc path count i to j, as computed by hetio: {}\".format(len(paths)))"
   ]
  },
  {
   "cell_type": "code",
   "execution_count": null,
   "metadata": {
    "collapsed": true
   },
   "outputs": [],
   "source": []
  }
 ],
 "metadata": {
  "kernelspec": {
   "display_name": "Python [conda env:hetmech]",
   "language": "python",
   "name": "conda-env-hetmech-py"
  },
  "language_info": {
   "codemirror_mode": {
    "name": "ipython",
    "version": 3
   },
   "file_extension": ".py",
   "mimetype": "text/x-python",
   "name": "python",
   "nbconvert_exporter": "python",
   "pygments_lexer": "ipython3",
   "version": "3.6.0"
  }
 },
 "nbformat": 4,
 "nbformat_minor": 2
}
