{
 "cells": [
  {
   "cell_type": "markdown",
   "metadata": {},
   "source": [
    "# Proof of concept DWWC matrix computation"
   ]
  },
  {
   "cell_type": "code",
   "execution_count": 1,
   "metadata": {
    "collapsed": true
   },
   "outputs": [],
   "source": [
    "import pandas\n",
    "from neo4j.v1 import GraphDatabase\n",
    "import hetio.readwrite\n",
    "import hetio.neo4j\n",
    "import hetio.pathtools\n",
    "\n",
    "from hetmech.degree_weight import dwwc\n",
    "from hetmech.matrix import get_node_to_position"
   ]
  },
  {
   "cell_type": "code",
   "execution_count": 2,
   "metadata": {
    "collapsed": true
   },
   "outputs": [],
   "source": [
    "url = 'https://github.com/dhimmel/hetionet/raw/76550e6c93fbe92124edc71725e8c7dd4ca8b1f5/hetnet/json/hetionet-v1.0.json.bz2'\n",
    "graph = hetio.readwrite.read_graph(url)\n",
    "metagraph = graph.metagraph"
   ]
  },
  {
   "cell_type": "code",
   "execution_count": 12,
   "metadata": {},
   "outputs": [],
   "source": [
    "compound = 'DB01156'  # Bupropion\n",
    "disease = 'DOID:0050742'  # nicotine dependences\n",
    "\n",
    "damping_exponent = 0.4\n",
    "\n",
    "# CbGpPWpGaD contains duplicate metanodes, so DWPC is not equivalent to DWPC\n",
    "metapath = metagraph.metapath_from_abbrev('CbGpPWpGaD')\n",
    "metapath.get_unicode_str()\n",
    "\n",
    "compound_to_position = {x.identifier: i for x, i in get_node_to_position(graph, 'Compound').items()}\n",
    "disease_to_position = {x.identifier: i for x, i in get_node_to_position(graph, 'Disease').items()}\n",
    "i = compound_to_position[compound]\n",
    "j = disease_to_position[disease]"
   ]
  },
  {
   "cell_type": "markdown",
   "metadata": {},
   "source": [
    "### Cypher DWPC implementation"
   ]
  },
  {
   "cell_type": "code",
   "execution_count": 13,
   "metadata": {},
   "outputs": [
    {
     "name": "stdout",
     "output_type": "stream",
     "text": [
      "MATCH path = (n0:Compound)-[:BINDS_CbG]-(n1)-[:PARTICIPATES_GpPW]-(n2)-[:PARTICIPATES_GpPW]-(n3)-[:ASSOCIATES_DaG]-(n4:Disease)\n",
      "USING JOIN ON n2\n",
      "WHERE n0.identifier = { source }\n",
      "AND n4.identifier = { target }\n",
      "AND n1 <> n3\n",
      "WITH\n",
      "[\n",
      "size((n0)-[:BINDS_CbG]-()),\n",
      "size(()-[:BINDS_CbG]-(n1)),\n",
      "size((n1)-[:PARTICIPATES_GpPW]-()),\n",
      "size(()-[:PARTICIPATES_GpPW]-(n2)),\n",
      "size((n2)-[:PARTICIPATES_GpPW]-()),\n",
      "size(()-[:PARTICIPATES_GpPW]-(n3)),\n",
      "size((n3)-[:ASSOCIATES_DaG]-()),\n",
      "size(()-[:ASSOCIATES_DaG]-(n4))\n",
      "] AS degrees, path\n",
      "RETURN\n",
      "count(path) AS PC,\n",
      "sum(reduce(pdp = 1.0, d in degrees| pdp * d ^ -{ w })) AS DWPC\n",
      "CPU times: user 22.8 ms, sys: 13 ms, total: 35.8 ms\n",
      "Wall time: 204 ms\n"
     ]
    }
   ],
   "source": [
    "%%time\n",
    "query = hetio.neo4j.construct_dwpc_query(metapath, property='identifier', unique_nodes=True)\n",
    "print(query)\n",
    "\n",
    "driver = GraphDatabase.driver(\"bolt://neo4j.het.io\")\n",
    "params = {\n",
    "    'source': compound,\n",
    "    'target': disease,\n",
    "    'w': damping_exponent,\n",
    "}\n",
    "with driver.session() as session:\n",
    "    result = session.run(query, params)\n",
    "    result = result.single()\n",
    "result"
   ]
  },
  {
   "cell_type": "code",
   "execution_count": 14,
   "metadata": {},
   "outputs": [
    {
     "name": "stdout",
     "output_type": "stream",
     "text": [
      "142\n",
      "0.03287590886921623\n"
     ]
    }
   ],
   "source": [
    "cypher_pc = result['PC']\n",
    "print(cypher_pc)\n",
    "cypher_dwpc = result['DWPC']\n",
    "print(cypher_dwpc)"
   ]
  },
  {
   "cell_type": "markdown",
   "metadata": {},
   "source": [
    "### hetio DWPC implementation"
   ]
  },
  {
   "cell_type": "code",
   "execution_count": 15,
   "metadata": {},
   "outputs": [
    {
     "name": "stdout",
     "output_type": "stream",
     "text": [
      "142\n",
      "CPU times: user 244 ms, sys: 1.99 ms, total: 246 ms\n",
      "Wall time: 246 ms\n"
     ]
    }
   ],
   "source": [
    "%%time\n",
    "compound_id = 'Compound', compound\n",
    "disease_id = 'Disease', disease\n",
    "hetio_paths = hetio.pathtools.paths_between(\n",
    "    graph, \n",
    "    source=graph.node_dict[compound_id],\n",
    "    target=graph.node_dict[disease_id],\n",
    "    metapath=metapath,\n",
    "    duplicates=False,\n",
    ")\n",
    "\n",
    "# Path count\n",
    "print(len(hetio_paths))\n",
    "\n",
    "# DWPC\n",
    "hetio_dwpc = hetio.pathtools.DWPC(hetio_paths, damping_exponent=damping_exponent)"
   ]
  },
  {
   "cell_type": "code",
   "execution_count": 16,
   "metadata": {},
   "outputs": [
    {
     "data": {
      "text/plain": [
       "0.03287590886921622"
      ]
     },
     "execution_count": 16,
     "metadata": {},
     "output_type": "execute_result"
    }
   ],
   "source": [
    "hetio_dwpc"
   ]
  },
  {
   "cell_type": "markdown",
   "metadata": {
    "collapsed": true
   },
   "source": [
    "### HetMech dwpc"
   ]
  },
  {
   "cell_type": "code",
   "execution_count": 37,
   "metadata": {},
   "outputs": [],
   "source": [
    "# from hetmech.path_count import dwpc\n",
    "\n",
    "import numpy\n",
    "import collections\n",
    "from scipy.sparse import csr_matrix\n",
    "import scipy.sparse\n",
    "\n",
    "from hetmech.matrix import metaedge_to_adjacency_matrix\n",
    "from hetmech.degree_weight import dwwc_step\n",
    "\n",
    "\n",
    "def dwpc(graph, metapath, damping=1.0, verbose=False):\n",
    "    \"\"\"\n",
    "    Compute the degree-weighted path count (DWPC).\n",
    "    First checks that no more than one metanode type is repeated.\n",
    "    \"\"\"\n",
    "    print(\"Calling DWPC\")\n",
    "    dwpc_matrix = None\n",
    "    # First read through sequence of metanode types\n",
    "    nodetype_sequence = collections.defaultdict(int)\n",
    "    for metaedge in metapath:\n",
    "        nodetype_sequence[metaedge.source] += 1\n",
    "        nodetype_sequence[metaedge.target] += 1\n",
    "    # Identify the repeated node type\n",
    "    # and check that no more than 1 metanodetype is repeated\n",
    "    repeated_node = list(filter(lambda x: nodetype_sequence[x] > 2,\n",
    "                           nodetype_sequence))\n",
    "    if len(repeated_node) > 1:\n",
    "        if verbose:\n",
    "            print(\"Input metapath repeats more than one nodetype\")\n",
    "        return dwpc_matrix\n",
    "\n",
    "    elif len(repeated_node) == 0:\n",
    "        if verbose:\n",
    "            print(\"Input metapath has no repeated nodetypes\")\n",
    "        # Now perform multiplications\n",
    "        for metaedge in metapath:\n",
    "            adj_mat = metaedge_to_adjacency_matrix(graph, metaedge)\n",
    "            adj_mat = dwwc_step(adj_mat, damping, damping)\n",
    "            if dwpc_matrix is None:\n",
    "                dwpc_matrix = csr_matrix(adj_mat).copy()\n",
    "            else:\n",
    "                dwpc_matrix = dwpc_matrix @ adj_mat\n",
    "    else:\n",
    "        # Determine start/endpoints for left,loop,right\n",
    "        if verbose:\n",
    "            print(\"Input metapath repeats exactly one nodetype\")\n",
    "            print(\"Repeated node list: {}, type {}\".format(repeated_node, repeated_node[0]))\n",
    "        \n",
    "        first_appearance = None\n",
    "        last_appearance = None\n",
    "        for idx, metaedge in enumerate(metapath):\n",
    "            if repeated_node[0] == metaedge.source:\n",
    "                if first_appearance is None:\n",
    "                    first_appearance = idx\n",
    "            if repeated_node[0] == metaedge.target:\n",
    "                last_appearance = idx\n",
    "        if verbose:\n",
    "            print(\"metapath has {} nodes, and {} are the repeated ones\"\n",
    "                  \"\".format(len(metapath),[first_appearance, last_appearance]))\n",
    "\n",
    "        # Handle head\n",
    "        left_matrix = None\n",
    "        for idx, metaedge in enumerate(metapath):\n",
    "            if verbose:\n",
    "                print(\"\\tWorking on {}\".format(idx))\n",
    "            adj_mat = metaedge_to_adjacency_matrix(graph, metaedge)\n",
    "            adj_mat = dwwc_step(adj_mat, damping, damping)\n",
    "            adj_mat = csr_matrix(adj_mat)\n",
    "            # metanodes = metaedge.get_nodes()\n",
    "            if idx < first_appearance:  # haven't seen repeatednode yet\n",
    "                if verbose:\n",
    "                    print(\"\\t\\tleft_matrix {}\".format(idx))\n",
    "                if left_matrix is None:\n",
    "                    if verbose:\n",
    "                        print(\"\\t\\tleft_matrix {} initialize; shape adj {}\".format(idx, adj_mat.shape))\n",
    "                    left_matrix = adj_mat.copy()\n",
    "                else:\n",
    "                    if verbose:\n",
    "                        print(\"\\t\\tleft_matrix {} multiply; shape left {} ; shape adj {}\".format(idx, left_matrix.shape, adj_mat.shape))\n",
    "                    if verbose:\n",
    "                        print(\"\\t\\tType of left_matrix before = {}\".format(type(left_matrix)))\n",
    "                    left_matrix = left_matrix @ adj_mat\n",
    "            elif idx <= last_appearance:  # i.e. metanodes[0] = repeatednode\n",
    "                if verbose:\n",
    "                    print(\"\\t\\tloop_matrix {}\".format(idx))\n",
    "                if dwpc_matrix is None:\n",
    "                    if verbose:\n",
    "                        print(\"\\t\\tloop_matrix {} initialize; shape adj {}\".format(idx, adj_mat.shape))\n",
    "                    dwpc_matrix = adj_mat.copy()\n",
    "                else:\n",
    "                    if verbose:\n",
    "                        print(\"\\t\\tloop_matrix {} multiply; shape loop {} ; shape adj {}\".format(idx, dwpc_matrix.shape, adj_mat.shape))\n",
    "                        print(\"\\t\\tType of loop_matrix before = {}\".format(type(dwpc_matrix)))\n",
    "                    dwpc_matrix = dwpc_matrix @ adj_mat\n",
    "                    # if endpoints are same type, subtract diagonal after mult\n",
    "                    if metaedge.target == repeated_node[0]:\n",
    "                        if verbose:\n",
    "                            print(\"\\tsubtracting diag {} \".format(idx))\n",
    "                        dwpc_matrix -= scipy.sparse.diags( [dwpc_matrix.diagonal().astype(float)], [0] )\n",
    "            else:\n",
    "                if verbose:\n",
    "                    print(\"\\t\\ttail_matrix {}\".format(idx))\n",
    "                dwpc_matrix = dwpc_matrix @ adj_mat\n",
    "\n",
    "    return left_matrix @ dwpc_matrix"
   ]
  },
  {
   "cell_type": "code",
   "execution_count": 38,
   "metadata": {},
   "outputs": [
    {
     "name": "stdout",
     "output_type": "stream",
     "text": [
      "Calling DWPC\n",
      "\n",
      "COMPARE\n",
      "dwpc_matrix shape (1552, 137)\n",
      "dwpc from i to j, as computed here:     0.032875908869216215\n",
      "dwpc from i to j, as computed by hetio: 0.03287590886921622\n",
      "dwpc from i to j, as computed by cypher: 0.03287590886921623\n",
      "CPU times: user 3.32 s, sys: 245 ms, total: 3.57 s\n",
      "Wall time: 3.58 s\n"
     ]
    }
   ],
   "source": [
    "%%time\n",
    "dwpc_matrix = dwpc(graph, metapath, damping_exponent, False)\n",
    "\n",
    "def compare_dwpc(output_mat, i, j):\n",
    "    print(\"\\nCOMPARE\")\n",
    "    print(\"dwpc_matrix shape {}\".format(output_mat.shape))\n",
    "    print(\"dwpc from i to j, as computed here:     {}\".format(output_mat[i,j]))\n",
    "    print(\"dwpc from i to j, as computed by hetio: {}\".format(hetio_dwpc))\n",
    "    print(\"dwpc from i to j, as computed by cypher: {}\".format(cypher_dwpc))\n",
    "\n",
    "def compare_pc(output_mat, i, j):\n",
    "    print(\"\\nCOMPARE\")\n",
    "    print(\"pc_matrix shape {}\".format(output_mat.shape))\n",
    "    print(\"pc from i to j, as computed here:     {}\".format(output_mat[i,j]))\n",
    "    print(\"pc from i to j, as computed by hetio: {}\".format(len(hetio_paths)))\n",
    "    print(\"pc from i to j, as computed by cypher: {}\".format(cypher_pc))\n",
    "    \n",
    "compare_dwpc(dwpc_matrix, i ,j)"
   ]
  },
  {
   "cell_type": "code",
   "execution_count": 39,
   "metadata": {},
   "outputs": [
    {
     "name": "stdout",
     "output_type": "stream",
     "text": [
      "Calling DWPC\n",
      "\n",
      "COMPARE\n",
      "pc_matrix shape (1552, 137)\n",
      "pc from i to j, as computed here:     142.0\n",
      "pc from i to j, as computed by hetio: 142\n",
      "pc from i to j, as computed by cypher: 142\n",
      "CPU times: user 3.1 s, sys: 266 ms, total: 3.37 s\n",
      "Wall time: 3.38 s\n"
     ]
    }
   ],
   "source": [
    "%%time\n",
    "dwpc_matrix = dwpc(graph, metapath, 0.00, False)\n",
    "\n",
    "compare_pc(dwpc_matrix, i, j)"
   ]
  },
  {
   "cell_type": "code",
   "execution_count": 36,
   "metadata": {},
   "outputs": [
    {
     "data": {
      "text/plain": [
       "0.30895618556701027"
      ]
     },
     "execution_count": 36,
     "metadata": {},
     "output_type": "execute_result"
    }
   ],
   "source": [
    "3.5 / 1552*137"
   ]
  }
 ],
 "metadata": {
  "kernelspec": {
   "display_name": "Python [conda env:hetmech]",
   "language": "python",
   "name": "conda-env-hetmech-py"
  },
  "language_info": {
   "codemirror_mode": {
    "name": "ipython",
    "version": 3
   },
   "file_extension": ".py",
   "mimetype": "text/x-python",
   "name": "python",
   "nbconvert_exporter": "python",
   "pygments_lexer": "ipython3",
   "version": "3.6.0"
  }
 },
 "nbformat": 4,
 "nbformat_minor": 2
}
