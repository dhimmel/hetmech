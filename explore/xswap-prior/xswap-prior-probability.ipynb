{
 "cells": [
  {
   "cell_type": "markdown",
   "metadata": {},
   "source": [
    "# Analytical derivation of the prior XSwap probability of a hetnet edge\n",
    "\n",
    "+ Lizee prior proposed [here](https://think-lab.github.io/d/194/#2) with further discussion [here](https://think-lab.github.io/d/201/#2).\n",
    "+ Chung-Lu and Kloster priors proposed [here](https://github.com/greenelab/hetmech/issues/134#issuecomment-419133600).\n",
    "\n",
    "Created an environment for this notebook with:\n",
    "\n",
    "```\n",
    "conda create --name=r --channel=conda-forge \\\n",
    "  r-base r-dplyr r-ggplot2 r-readr r-irkernel r-boot r-rcurl r-tidyr\n",
    "```"
   ]
  },
  {
   "cell_type": "code",
   "execution_count": 1,
   "metadata": {
    "collapsed": true
   },
   "outputs": [],
   "source": [
    "# Load magrittr pipe\n",
    "`%>%` = dplyr::`%>%`"
   ]
  },
  {
   "cell_type": "markdown",
   "metadata": {},
   "source": [
    "## Read in XSwap prior probabilities"
   ]
  },
  {
   "cell_type": "code",
   "execution_count": 2,
   "metadata": {},
   "outputs": [],
   "source": [
    "process_metaedge_degree_df <- function(df) {\n",
    "  df %>%\n",
    "  dplyr::mutate(logit_xswap_prior = boot::logit(xswap_prior)) %>%\n",
    "  dplyr::mutate(Lizee = source_degree * target_degree / sum(n_possible)) %>%\n",
    "  dplyr::mutate(`Chung-Lu` = source_degree * target_degree / sum(n_edges)) %>%\n",
    "  dplyr::mutate(Kloster = source_degree * target_degree /\n",
    "    (sum(n_edges) + (source_degree - 1) * (target_degree - 1)))\n",
    "}"
   ]
  },
  {
   "cell_type": "code",
   "execution_count": 3,
   "metadata": {},
   "outputs": [
    {
     "name": "stderr",
     "output_type": "stream",
     "text": [
      "`curl` package not installed, falling back to using `url()`\n",
      "Parsed with column specification:\n",
      "cols(\n",
      "  compound_treats = col_integer(),\n",
      "  disease_treats = col_integer(),\n",
      "  prior_perm = col_double(),\n",
      "  prior_perm_stderr = col_double(),\n",
      "  n_treatments = col_integer(),\n",
      "  n_possible = col_integer()\n",
      ")\n"
     ]
    },
    {
     "data": {
      "text/html": [
       "<table>\n",
       "<thead><tr><th scope=col>source_degree</th><th scope=col>target_degree</th><th scope=col>xswap_prior</th><th scope=col>prior_perm_stderr</th><th scope=col>n_edges</th><th scope=col>n_possible</th><th scope=col>metaedge</th><th scope=col>logit_xswap_prior</th><th scope=col>Lizee</th><th scope=col>Chung-Lu</th><th scope=col>Kloster</th></tr></thead>\n",
       "<tbody>\n",
       "\t<tr><td>1           </td><td>1           </td><td>0.00116183  </td><td>5.44733e-07 </td><td>5           </td><td>3612        </td><td>CtD         </td><td>-6.756596   </td><td>3.355817e-05</td><td>0.001324503 </td><td>0.001324503 </td></tr>\n",
       "\t<tr><td>1           </td><td>2           </td><td>0.00234128  </td><td>1.29275e-06 </td><td>3           </td><td>1290        </td><td>CtD         </td><td>-6.054713   </td><td>6.711635e-05</td><td>0.002649007 </td><td>0.002649007 </td></tr>\n",
       "</tbody>\n",
       "</table>\n"
      ],
      "text/latex": [
       "\\begin{tabular}{r|lllllllllll}\n",
       " source\\_degree & target\\_degree & xswap\\_prior & prior\\_perm\\_stderr & n\\_edges & n\\_possible & metaedge & logit\\_xswap\\_prior & Lizee & Chung-Lu & Kloster\\\\\n",
       "\\hline\n",
       "\t 1            & 1            & 0.00116183   & 5.44733e-07  & 5            & 3612         & CtD          & -6.756596    & 3.355817e-05 & 0.001324503  & 0.001324503 \\\\\n",
       "\t 1            & 2            & 0.00234128   & 1.29275e-06  & 3            & 1290         & CtD          & -6.054713    & 6.711635e-05 & 0.002649007  & 0.002649007 \\\\\n",
       "\\end{tabular}\n"
      ],
      "text/markdown": [
       "\n",
       "source_degree | target_degree | xswap_prior | prior_perm_stderr | n_edges | n_possible | metaedge | logit_xswap_prior | Lizee | Chung-Lu | Kloster | \n",
       "|---|---|\n",
       "| 1            | 1            | 0.00116183   | 5.44733e-07  | 5            | 3612         | CtD          | -6.756596    | 3.355817e-05 | 0.001324503  | 0.001324503  | \n",
       "| 1            | 2            | 0.00234128   | 1.29275e-06  | 3            | 1290         | CtD          | -6.054713    | 6.711635e-05 | 0.002649007  | 0.002649007  | \n",
       "\n",
       "\n"
      ],
      "text/plain": [
       "  source_degree target_degree xswap_prior prior_perm_stderr n_edges n_possible\n",
       "1 1             1             0.00116183  5.44733e-07       5       3612      \n",
       "2 1             2             0.00234128  1.29275e-06       3       1290      \n",
       "  metaedge logit_xswap_prior Lizee        Chung-Lu    Kloster    \n",
       "1 CtD      -6.756596         3.355817e-05 0.001324503 0.001324503\n",
       "2 CtD      -6.054713         6.711635e-05 0.002649007 0.002649007"
      ]
     },
     "metadata": {},
     "output_type": "display_data"
    }
   ],
   "source": [
    "# Compound-treats-Disease\n",
    "url = \n",
    "CtD_df = 'https://github.com/dhimmel/learn/raw/0aae784e83cfaa00d1269f17a3bd3a6c6fdc3a0a/prior/data/degree-prior.tsv' %>%\n",
    "  readr::read_tsv() %>%\n",
    "  dplyr::mutate(metaedge='CtD') %>%\n",
    "  dplyr::rename(source_degree=compound_treats, target_degree=disease_treats, xswap_prior=prior_perm, n_edges=n_treatments) %>%\n",
    "  process_metaedge_degree_df()\n",
    "CtD_df %>% head(2)"
   ]
  },
  {
   "cell_type": "code",
   "execution_count": 4,
   "metadata": {},
   "outputs": [
    {
     "name": "stderr",
     "output_type": "stream",
     "text": [
      "`curl` package not installed, falling back to using `url()`\n",
      "Parsed with column specification:\n",
      "cols(\n",
      "  disease_associates = col_integer(),\n",
      "  gene_associates = col_integer(),\n",
      "  prior_perm = col_double(),\n",
      "  prior_perm_stderr = col_double(),\n",
      "  n_associations = col_integer(),\n",
      "  n_possible = col_integer()\n",
      ")\n"
     ]
    },
    {
     "data": {
      "text/html": [
       "<table>\n",
       "<thead><tr><th scope=col>source_degree</th><th scope=col>target_degree</th><th scope=col>xswap_prior</th><th scope=col>prior_perm_stderr</th><th scope=col>n_edges</th><th scope=col>n_possible</th><th scope=col>metaedge</th><th scope=col>logit_xswap_prior</th><th scope=col>Lizee</th><th scope=col>Chung-Lu</th><th scope=col>Kloster</th></tr></thead>\n",
       "<tbody>\n",
       "\t<tr><td>550        </td><td>47         </td><td>0.870898   </td><td>0.000557877</td><td>1          </td><td>1          </td><td>GaD        </td><td>1.908922   </td><td>0.03577716 </td><td>2.047849   </td><td>0.6824722  </td></tr>\n",
       "\t<tr><td>550        </td><td>46         </td><td>0.867094   </td><td>0.000564798</td><td>0          </td><td>1          </td><td>GaD        </td><td>1.875505   </td><td>0.03501594 </td><td>2.004278   </td><td>0.6777754  </td></tr>\n",
       "</tbody>\n",
       "</table>\n"
      ],
      "text/latex": [
       "\\begin{tabular}{r|lllllllllll}\n",
       " source\\_degree & target\\_degree & xswap\\_prior & prior\\_perm\\_stderr & n\\_edges & n\\_possible & metaedge & logit\\_xswap\\_prior & Lizee & Chung-Lu & Kloster\\\\\n",
       "\\hline\n",
       "\t 550         & 47          & 0.870898    & 0.000557877 & 1           & 1           & GaD         & 1.908922    & 0.03577716  & 2.047849    & 0.6824722  \\\\\n",
       "\t 550         & 46          & 0.867094    & 0.000564798 & 0           & 1           & GaD         & 1.875505    & 0.03501594  & 2.004278    & 0.6777754  \\\\\n",
       "\\end{tabular}\n"
      ],
      "text/markdown": [
       "\n",
       "source_degree | target_degree | xswap_prior | prior_perm_stderr | n_edges | n_possible | metaedge | logit_xswap_prior | Lizee | Chung-Lu | Kloster | \n",
       "|---|---|\n",
       "| 550         | 47          | 0.870898    | 0.000557877 | 1           | 1           | GaD         | 1.908922    | 0.03577716  | 2.047849    | 0.6824722   | \n",
       "| 550         | 46          | 0.867094    | 0.000564798 | 0           | 1           | GaD         | 1.875505    | 0.03501594  | 2.004278    | 0.6777754   | \n",
       "\n",
       "\n"
      ],
      "text/plain": [
       "  source_degree target_degree xswap_prior prior_perm_stderr n_edges n_possible\n",
       "1 550           47            0.870898    0.000557877       1       1         \n",
       "2 550           46            0.867094    0.000564798       0       1         \n",
       "  metaedge logit_xswap_prior Lizee      Chung-Lu Kloster  \n",
       "1 GaD      1.908922          0.03577716 2.047849 0.6824722\n",
       "2 GaD      1.875505          0.03501594 2.004278 0.6777754"
      ]
     },
     "metadata": {},
     "output_type": "display_data"
    }
   ],
   "source": [
    "# Disease-associates-Gene\n",
    "# see https://github.com/greenelab/snorkeling/pull/67\n",
    "GaD_df = 'https://github.com/greenelab/snorkeling/raw/6f9202a6874c64fedeb97489cc6560447b6e9424/disease_gene/disease_associates_gene/degree-prior.csv' %>%\n",
    "  readr::read_csv() %>%\n",
    "  dplyr::mutate(metaedge='GaD') %>%\n",
    "  dplyr::rename(source_degree=disease_associates, target_degree=gene_associates, xswap_prior=prior_perm, n_edges=n_associations) %>%\n",
    "  process_metaedge_degree_df()\n",
    "GaD_df %>% head(2)"
   ]
  },
  {
   "cell_type": "code",
   "execution_count": 5,
   "metadata": {},
   "outputs": [
    {
     "data": {
      "text/html": [
       "<table>\n",
       "<thead><tr><th scope=col>source_degree</th><th scope=col>target_degree</th><th scope=col>xswap_prior</th><th scope=col>prior_perm_stderr</th><th scope=col>n_edges</th><th scope=col>n_possible</th><th scope=col>metaedge</th><th scope=col>logit_xswap_prior</th><th scope=col>Lizee</th><th scope=col>Chung-Lu</th><th scope=col>Kloster</th></tr></thead>\n",
       "<tbody>\n",
       "\t<tr><td>1           </td><td>1           </td><td>0.00116183  </td><td>5.44733e-07 </td><td>5           </td><td>3612        </td><td>CtD         </td><td>-6.756596   </td><td>3.355817e-05</td><td>0.001324503 </td><td>0.001324503 </td></tr>\n",
       "\t<tr><td>1           </td><td>2           </td><td>0.00234128  </td><td>1.29275e-06 </td><td>3           </td><td>1290        </td><td>CtD         </td><td>-6.054713   </td><td>6.711635e-05</td><td>0.002649007 </td><td>0.002649007 </td></tr>\n",
       "</tbody>\n",
       "</table>\n"
      ],
      "text/latex": [
       "\\begin{tabular}{r|lllllllllll}\n",
       " source\\_degree & target\\_degree & xswap\\_prior & prior\\_perm\\_stderr & n\\_edges & n\\_possible & metaedge & logit\\_xswap\\_prior & Lizee & Chung-Lu & Kloster\\\\\n",
       "\\hline\n",
       "\t 1            & 1            & 0.00116183   & 5.44733e-07  & 5            & 3612         & CtD          & -6.756596    & 3.355817e-05 & 0.001324503  & 0.001324503 \\\\\n",
       "\t 1            & 2            & 0.00234128   & 1.29275e-06  & 3            & 1290         & CtD          & -6.054713    & 6.711635e-05 & 0.002649007  & 0.002649007 \\\\\n",
       "\\end{tabular}\n"
      ],
      "text/markdown": [
       "\n",
       "source_degree | target_degree | xswap_prior | prior_perm_stderr | n_edges | n_possible | metaedge | logit_xswap_prior | Lizee | Chung-Lu | Kloster | \n",
       "|---|---|\n",
       "| 1            | 1            | 0.00116183   | 5.44733e-07  | 5            | 3612         | CtD          | -6.756596    | 3.355817e-05 | 0.001324503  | 0.001324503  | \n",
       "| 1            | 2            | 0.00234128   | 1.29275e-06  | 3            | 1290         | CtD          | -6.054713    | 6.711635e-05 | 0.002649007  | 0.002649007  | \n",
       "\n",
       "\n"
      ],
      "text/plain": [
       "  source_degree target_degree xswap_prior prior_perm_stderr n_edges n_possible\n",
       "1 1             1             0.00116183  5.44733e-07       5       3612      \n",
       "2 1             2             0.00234128  1.29275e-06       3       1290      \n",
       "  metaedge logit_xswap_prior Lizee        Chung-Lu    Kloster    \n",
       "1 CtD      -6.756596         3.355817e-05 0.001324503 0.001324503\n",
       "2 CtD      -6.054713         6.711635e-05 0.002649007 0.002649007"
      ]
     },
     "metadata": {},
     "output_type": "display_data"
    }
   ],
   "source": [
    "degree_prior_df = dplyr::bind_rows(CtD_df, GaD_df)\n",
    "degree_prior_df %>% head(2)"
   ]
  },
  {
   "cell_type": "code",
   "execution_count": 6,
   "metadata": {},
   "outputs": [
    {
     "name": "stderr",
     "output_type": "stream",
     "text": [
      "Warning message in qlogis(p):\n",
      "“NaNs produced”"
     ]
    },
    {
     "data": {
      "text/html": [
       "<table>\n",
       "<thead><tr><th scope=col>source_degree</th><th scope=col>target_degree</th><th scope=col>xswap_prior</th><th scope=col>prior_perm_stderr</th><th scope=col>n_edges</th><th scope=col>n_possible</th><th scope=col>metaedge</th><th scope=col>logit_xswap_prior</th><th scope=col>method</th><th scope=col>prior</th><th scope=col>logit_prior</th></tr></thead>\n",
       "<tbody>\n",
       "\t<tr><td>1           </td><td>1           </td><td>0.00116183  </td><td>5.44733e-07 </td><td>5           </td><td>3612        </td><td>CtD         </td><td>-6.756596   </td><td>Lizee       </td><td>3.355817e-05</td><td>-10.302197  </td></tr>\n",
       "\t<tr><td>1           </td><td>2           </td><td>0.00234128  </td><td>1.29275e-06 </td><td>3           </td><td>1290        </td><td>CtD         </td><td>-6.054713   </td><td>Lizee       </td><td>6.711635e-05</td><td> -9.609016  </td></tr>\n",
       "</tbody>\n",
       "</table>\n"
      ],
      "text/latex": [
       "\\begin{tabular}{r|lllllllllll}\n",
       " source\\_degree & target\\_degree & xswap\\_prior & prior\\_perm\\_stderr & n\\_edges & n\\_possible & metaedge & logit\\_xswap\\_prior & method & prior & logit\\_prior\\\\\n",
       "\\hline\n",
       "\t 1            & 1            & 0.00116183   & 5.44733e-07  & 5            & 3612         & CtD          & -6.756596    & Lizee        & 3.355817e-05 & -10.302197  \\\\\n",
       "\t 1            & 2            & 0.00234128   & 1.29275e-06  & 3            & 1290         & CtD          & -6.054713    & Lizee        & 6.711635e-05 &  -9.609016  \\\\\n",
       "\\end{tabular}\n"
      ],
      "text/markdown": [
       "\n",
       "source_degree | target_degree | xswap_prior | prior_perm_stderr | n_edges | n_possible | metaedge | logit_xswap_prior | method | prior | logit_prior | \n",
       "|---|---|\n",
       "| 1            | 1            | 0.00116183   | 5.44733e-07  | 5            | 3612         | CtD          | -6.756596    | Lizee        | 3.355817e-05 | -10.302197   | \n",
       "| 1            | 2            | 0.00234128   | 1.29275e-06  | 3            | 1290         | CtD          | -6.054713    | Lizee        | 6.711635e-05 |  -9.609016   | \n",
       "\n",
       "\n"
      ],
      "text/plain": [
       "  source_degree target_degree xswap_prior prior_perm_stderr n_edges n_possible\n",
       "1 1             1             0.00116183  5.44733e-07       5       3612      \n",
       "2 1             2             0.00234128  1.29275e-06       3       1290      \n",
       "  metaedge logit_xswap_prior method prior        logit_prior\n",
       "1 CtD      -6.756596         Lizee  3.355817e-05 -10.302197 \n",
       "2 CtD      -6.054713         Lizee  6.711635e-05  -9.609016 "
      ]
     },
     "metadata": {},
     "output_type": "display_data"
    }
   ],
   "source": [
    "long_df = degree_prior_df %>%\n",
    "  tidyr::gather(key = 'method', value = 'prior', Lizee:Kloster) %>%\n",
    "  dplyr::mutate(logit_prior = boot::logit(prior))\n",
    "long_df %>% head(2)"
   ]
  },
  {
   "cell_type": "code",
   "execution_count": 7,
   "metadata": {},
   "outputs": [
    {
     "data": {
      "text/html": [
       "<table>\n",
       "<thead><tr><th scope=col>source_degree</th><th scope=col>target_degree</th><th scope=col>xswap_prior</th><th scope=col>prior_perm_stderr</th><th scope=col>n_edges</th><th scope=col>n_possible</th><th scope=col>metaedge</th><th scope=col>logit_xswap_prior</th><th scope=col>method</th><th scope=col>prior</th><th scope=col>logit_prior</th></tr></thead>\n",
       "<tbody>\n",
       "\t<tr><td>12         </td><td>68         </td><td>0.669943   </td><td>0.000544807</td><td>1          </td><td>1          </td><td>CtD        </td><td>0.7079273  </td><td>Chung-Lu   </td><td>1.080795   </td><td>NaN        </td></tr>\n",
       "\t<tr><td>13         </td><td>68         </td><td>0.693760   </td><td>0.000534029</td><td>1          </td><td>1          </td><td>CtD        </td><td>0.8177570  </td><td>Chung-Lu   </td><td>1.170861   </td><td>NaN        </td></tr>\n",
       "\t<tr><td>14         </td><td>68         </td><td>0.714649   </td><td>0.000523197</td><td>0          </td><td>1          </td><td>CtD        </td><td>0.9180715  </td><td>Chung-Lu   </td><td>1.260927   </td><td>NaN        </td></tr>\n",
       "\t<tr><td>15         </td><td>51         </td><td>0.659217   </td><td>0.000549139</td><td>1          </td><td>1          </td><td>CtD        </td><td>0.6598069  </td><td>Chung-Lu   </td><td>1.013245   </td><td>NaN        </td></tr>\n",
       "\t<tr><td>15         </td><td>68         </td><td>0.734184   </td><td>0.000511826</td><td>1          </td><td>1          </td><td>CtD        </td><td>1.0159553  </td><td>Chung-Lu   </td><td>1.350993   </td><td>NaN        </td></tr>\n",
       "</tbody>\n",
       "</table>\n"
      ],
      "text/latex": [
       "\\begin{tabular}{r|lllllllllll}\n",
       " source\\_degree & target\\_degree & xswap\\_prior & prior\\_perm\\_stderr & n\\_edges & n\\_possible & metaedge & logit\\_xswap\\_prior & method & prior & logit\\_prior\\\\\n",
       "\\hline\n",
       "\t 12          & 68          & 0.669943    & 0.000544807 & 1           & 1           & CtD         & 0.7079273   & Chung-Lu    & 1.080795    & NaN        \\\\\n",
       "\t 13          & 68          & 0.693760    & 0.000534029 & 1           & 1           & CtD         & 0.8177570   & Chung-Lu    & 1.170861    & NaN        \\\\\n",
       "\t 14          & 68          & 0.714649    & 0.000523197 & 0           & 1           & CtD         & 0.9180715   & Chung-Lu    & 1.260927    & NaN        \\\\\n",
       "\t 15          & 51          & 0.659217    & 0.000549139 & 1           & 1           & CtD         & 0.6598069   & Chung-Lu    & 1.013245    & NaN        \\\\\n",
       "\t 15          & 68          & 0.734184    & 0.000511826 & 1           & 1           & CtD         & 1.0159553   & Chung-Lu    & 1.350993    & NaN        \\\\\n",
       "\\end{tabular}\n"
      ],
      "text/markdown": [
       "\n",
       "source_degree | target_degree | xswap_prior | prior_perm_stderr | n_edges | n_possible | metaedge | logit_xswap_prior | method | prior | logit_prior | \n",
       "|---|---|---|---|---|\n",
       "| 12          | 68          | 0.669943    | 0.000544807 | 1           | 1           | CtD         | 0.7079273   | Chung-Lu    | 1.080795    | NaN         | \n",
       "| 13          | 68          | 0.693760    | 0.000534029 | 1           | 1           | CtD         | 0.8177570   | Chung-Lu    | 1.170861    | NaN         | \n",
       "| 14          | 68          | 0.714649    | 0.000523197 | 0           | 1           | CtD         | 0.9180715   | Chung-Lu    | 1.260927    | NaN         | \n",
       "| 15          | 51          | 0.659217    | 0.000549139 | 1           | 1           | CtD         | 0.6598069   | Chung-Lu    | 1.013245    | NaN         | \n",
       "| 15          | 68          | 0.734184    | 0.000511826 | 1           | 1           | CtD         | 1.0159553   | Chung-Lu    | 1.350993    | NaN         | \n",
       "\n",
       "\n"
      ],
      "text/plain": [
       "  source_degree target_degree xswap_prior prior_perm_stderr n_edges n_possible\n",
       "1 12            68            0.669943    0.000544807       1       1         \n",
       "2 13            68            0.693760    0.000534029       1       1         \n",
       "3 14            68            0.714649    0.000523197       0       1         \n",
       "4 15            51            0.659217    0.000549139       1       1         \n",
       "5 15            68            0.734184    0.000511826       1       1         \n",
       "  metaedge logit_xswap_prior method   prior    logit_prior\n",
       "1 CtD      0.7079273         Chung-Lu 1.080795 NaN        \n",
       "2 CtD      0.8177570         Chung-Lu 1.170861 NaN        \n",
       "3 CtD      0.9180715         Chung-Lu 1.260927 NaN        \n",
       "4 CtD      0.6598069         Chung-Lu 1.013245 NaN        \n",
       "5 CtD      1.0159553         Chung-Lu 1.350993 NaN        "
      ]
     },
     "metadata": {},
     "output_type": "display_data"
    }
   ],
   "source": [
    "# NaNs produced when probabilities greater than 1 for example with Chung-Lu\n",
    "long_df %>% dplyr::filter(is.na(logit_prior)) %>% head(5)"
   ]
  },
  {
   "cell_type": "code",
   "execution_count": 8,
   "metadata": {},
   "outputs": [
    {
     "data": {},
     "metadata": {},
     "output_type": "display_data"
    },
    {
     "data": {
      "image/png": "[encoded data removed]",
      "text/plain": [
       "plot without title"
      ]
     },
     "metadata": {},
     "output_type": "display_data",
     "source": "R display func"
    }
   ],
   "source": [
    "width = 7.55\n",
    "height = 4.2\n",
    "options(repr.plot.width=width, repr.plot.height=height)\n",
    "gg_scatter = long_df %>%\n",
    "  dplyr::filter(method != 'Lizee') %>%\n",
    "  dplyr::mutate(method = factor(method, levels=c('Lizee', 'Chung-Lu', 'Kloster'))) %>%\n",
    "  ggplot2::ggplot(ggplot2::aes(prior, xswap_prior)) +\n",
    "  ggplot2::geom_abline(slope=1, color='#f63dff', linetype='dashed') +\n",
    "  ggplot2::geom_point(alpha = 0.08, shape = 16, size=1) +\n",
    "#   ggplot2::geom_linerange(ggplot2::aes(\n",
    "#     ymin=boot::logit(xswap_prior - 2*prior_perm_stderr),\n",
    "#     ymax=boot::logit(xswap_prior + 2*prior_perm_stderr)\n",
    "#   )) +\n",
    "  ggplot2::theme_bw() +\n",
    "  ggplot2::coord_fixed() +\n",
    "  ggplot2::facet_grid(metaedge ~ method) +\n",
    "  ggplot2::xlab('Analytic Probability') +\n",
    "  ggplot2::ylab('Empiric XSwap Probability') +\n",
    "  ggplot2::scale_x_continuous(labels = scales::percent, breaks=seq(0,5,0.25), expand=c(0, 0.05)) +\n",
    "  ggplot2::scale_y_continuous(labels = scales::percent, limits=c(0, 1), expand=c(0, 0.05)) + \n",
    "  ggplot2::theme(strip.background  = ggplot2::element_rect(fill = '#fef2e2'))\n",
    "\n",
    "\n",
    "gg_scatter\n",
    "ggplot2::ggsave('xswap-versus-analytic-priors.png', gg_scatter, dpi = 300, width = width, height = height)"
   ]
  },
  {
   "cell_type": "code",
   "execution_count": 9,
   "metadata": {},
   "outputs": [
    {
     "data": {
      "text/html": [
       "<table>\n",
       "<thead><tr><th scope=col>source_degree</th><th scope=col>target_degree</th><th scope=col>xswap_prior</th><th scope=col>prior_perm_stderr</th><th scope=col>n_edges</th><th scope=col>n_possible</th><th scope=col>metaedge</th><th scope=col>logit_xswap_prior</th><th scope=col>Lizee</th><th scope=col>Chung-Lu</th><th scope=col>Kloster</th></tr></thead>\n",
       "<tbody>\n",
       "\t<tr><td> 19        </td><td>68         </td><td>0.795997   </td><td>0.000466878</td><td>1          </td><td>1          </td><td>CtD        </td><td>1.3614607  </td><td>0.04335716 </td><td>1.7112583  </td><td>0.6588475  </td></tr>\n",
       "\t<tr><td> 17        </td><td>68         </td><td>0.768551   </td><td>0.000488645</td><td>0          </td><td>1          </td><td>CtD        </td><td>1.2001474  </td><td>0.03879325 </td><td>1.5311258  </td><td>0.6327313  </td></tr>\n",
       "\t<tr><td> 15        </td><td>68         </td><td>0.734184   </td><td>0.000511826</td><td>1          </td><td>1          </td><td>CtD        </td><td>1.0159553  </td><td>0.03422934 </td><td>1.3509934  </td><td>0.6024808  </td></tr>\n",
       "\t<tr><td> 19        </td><td>51         </td><td>0.733662   </td><td>0.000512146</td><td>0          </td><td>1          </td><td>CtD        </td><td>1.0132823  </td><td>0.03251787 </td><td>1.2834437  </td><td>0.5854985  </td></tr>\n",
       "\t<tr><td> 14        </td><td>68         </td><td>0.714649   </td><td>0.000523197</td><td>0          </td><td>1          </td><td>CtD        </td><td>0.9180715  </td><td>0.03194738 </td><td>1.2609272  </td><td>0.5854859  </td></tr>\n",
       "\t<tr><td> 17        </td><td>51         </td><td>0.698313   </td><td>0.000531781</td><td>0          </td><td>1          </td><td>CtD        </td><td>0.8392774  </td><td>0.02909494 </td><td>1.1483444  </td><td>0.5575563  </td></tr>\n",
       "\t<tr><td> 13        </td><td>68         </td><td>0.693760   </td><td>0.000534029</td><td>1          </td><td>1          </td><td>CtD        </td><td>0.8177570  </td><td>0.02966543 </td><td>1.1708609  </td><td>0.5670301  </td></tr>\n",
       "\t<tr><td> 12        </td><td>68         </td><td>0.669943   </td><td>0.000544807</td><td>1          </td><td>1          </td><td>CtD        </td><td>0.7079273  </td><td>0.02738347 </td><td>1.0807947  </td><td>0.5469169  </td></tr>\n",
       "\t<tr><td> 15        </td><td>51         </td><td>0.659217   </td><td>0.000549139</td><td>1          </td><td>1          </td><td>CtD        </td><td>0.6598069  </td><td>0.02567200 </td><td>1.0132450  </td><td>0.5257732  </td></tr>\n",
       "\t<tr><td> 19        </td><td>37         </td><td>0.652270   </td><td>0.000551778</td><td>1          </td><td>1          </td><td>CtD        </td><td>0.6290323  </td><td>0.02359140 </td><td>0.9311258  </td><td>0.5010691  </td></tr>\n",
       "\t<tr><td>550        </td><td>47         </td><td>0.870898   </td><td>0.000557877</td><td>1          </td><td>1          </td><td>GaD        </td><td>1.9089221  </td><td>0.03577716 </td><td>2.0478492  </td><td>0.6824722  </td></tr>\n",
       "\t<tr><td>540        </td><td>47         </td><td>0.868977   </td><td>0.000561392</td><td>1          </td><td>1          </td><td>GaD        </td><td>1.8919438  </td><td>0.03512667 </td><td>2.0106155  </td><td>0.6783013  </td></tr>\n",
       "\t<tr><td>535        </td><td>47         </td><td>0.868772   </td><td>0.000561765</td><td>1          </td><td>1          </td><td>GaD        </td><td>1.8901445  </td><td>0.03480142 </td><td>1.9919987  </td><td>0.6761772  </td></tr>\n",
       "\t<tr><td>550        </td><td>46         </td><td>0.867094   </td><td>0.000564798</td><td>0          </td><td>1          </td><td>GaD        </td><td>1.8755053  </td><td>0.03501594 </td><td>2.0042779  </td><td>0.6777754  </td></tr>\n",
       "\t<tr><td>540        </td><td>46         </td><td>0.863596   </td><td>0.000571028</td><td>1          </td><td>1          </td><td>GaD        </td><td>1.8454840  </td><td>0.03437929 </td><td>1.9678365  </td><td>0.6735723  </td></tr>\n",
       "\t<tr><td>535        </td><td>46         </td><td>0.862912   </td><td>0.000572231</td><td>1          </td><td>1          </td><td>GaD        </td><td>1.8396897  </td><td>0.03406096 </td><td>1.9496158  </td><td>0.6714321  </td></tr>\n",
       "\t<tr><td>496        </td><td>47         </td><td>0.856368   </td><td>0.000583504</td><td>1          </td><td>1          </td><td>GaD        </td><td>1.7854457  </td><td>0.03226449 </td><td>1.8467876  </td><td>0.6586613  </td></tr>\n",
       "\t<tr><td>496        </td><td>46         </td><td>0.851676   </td><td>0.000591331</td><td>1          </td><td>1          </td><td>GaD        </td><td>1.7478071  </td><td>0.03157801 </td><td>1.8074943  </td><td>0.6537910  </td></tr>\n",
       "\t<tr><td>478        </td><td>47         </td><td>0.851494   </td><td>0.000591632</td><td>1          </td><td>1          </td><td>GaD        </td><td>1.7463671  </td><td>0.03109360 </td><td>1.7797671  </td><td>0.6499638  </td></tr>\n",
       "\t<tr><td>478        </td><td>46         </td><td>0.845108   </td><td>0.000601948</td><td>1          </td><td>1          </td><td>GaD        </td><td>1.6967363  </td><td>0.03043204 </td><td>1.7418997  </td><td>0.6450364  </td></tr>\n",
       "</tbody>\n",
       "</table>\n"
      ],
      "text/latex": [
       "\\begin{tabular}{r|lllllllllll}\n",
       " source\\_degree & target\\_degree & xswap\\_prior & prior\\_perm\\_stderr & n\\_edges & n\\_possible & metaedge & logit\\_xswap\\_prior & Lizee & Chung-Lu & Kloster\\\\\n",
       "\\hline\n",
       "\t  19         & 68          & 0.795997    & 0.000466878 & 1           & 1           & CtD         & 1.3614607   & 0.04335716  & 1.7112583   & 0.6588475  \\\\\n",
       "\t  17         & 68          & 0.768551    & 0.000488645 & 0           & 1           & CtD         & 1.2001474   & 0.03879325  & 1.5311258   & 0.6327313  \\\\\n",
       "\t  15         & 68          & 0.734184    & 0.000511826 & 1           & 1           & CtD         & 1.0159553   & 0.03422934  & 1.3509934   & 0.6024808  \\\\\n",
       "\t  19         & 51          & 0.733662    & 0.000512146 & 0           & 1           & CtD         & 1.0132823   & 0.03251787  & 1.2834437   & 0.5854985  \\\\\n",
       "\t  14         & 68          & 0.714649    & 0.000523197 & 0           & 1           & CtD         & 0.9180715   & 0.03194738  & 1.2609272   & 0.5854859  \\\\\n",
       "\t  17         & 51          & 0.698313    & 0.000531781 & 0           & 1           & CtD         & 0.8392774   & 0.02909494  & 1.1483444   & 0.5575563  \\\\\n",
       "\t  13         & 68          & 0.693760    & 0.000534029 & 1           & 1           & CtD         & 0.8177570   & 0.02966543  & 1.1708609   & 0.5670301  \\\\\n",
       "\t  12         & 68          & 0.669943    & 0.000544807 & 1           & 1           & CtD         & 0.7079273   & 0.02738347  & 1.0807947   & 0.5469169  \\\\\n",
       "\t  15         & 51          & 0.659217    & 0.000549139 & 1           & 1           & CtD         & 0.6598069   & 0.02567200  & 1.0132450   & 0.5257732  \\\\\n",
       "\t  19         & 37          & 0.652270    & 0.000551778 & 1           & 1           & CtD         & 0.6290323   & 0.02359140  & 0.9311258   & 0.5010691  \\\\\n",
       "\t 550         & 47          & 0.870898    & 0.000557877 & 1           & 1           & GaD         & 1.9089221   & 0.03577716  & 2.0478492   & 0.6824722  \\\\\n",
       "\t 540         & 47          & 0.868977    & 0.000561392 & 1           & 1           & GaD         & 1.8919438   & 0.03512667  & 2.0106155   & 0.6783013  \\\\\n",
       "\t 535         & 47          & 0.868772    & 0.000561765 & 1           & 1           & GaD         & 1.8901445   & 0.03480142  & 1.9919987   & 0.6761772  \\\\\n",
       "\t 550         & 46          & 0.867094    & 0.000564798 & 0           & 1           & GaD         & 1.8755053   & 0.03501594  & 2.0042779   & 0.6777754  \\\\\n",
       "\t 540         & 46          & 0.863596    & 0.000571028 & 1           & 1           & GaD         & 1.8454840   & 0.03437929  & 1.9678365   & 0.6735723  \\\\\n",
       "\t 535         & 46          & 0.862912    & 0.000572231 & 1           & 1           & GaD         & 1.8396897   & 0.03406096  & 1.9496158   & 0.6714321  \\\\\n",
       "\t 496         & 47          & 0.856368    & 0.000583504 & 1           & 1           & GaD         & 1.7854457   & 0.03226449  & 1.8467876   & 0.6586613  \\\\\n",
       "\t 496         & 46          & 0.851676    & 0.000591331 & 1           & 1           & GaD         & 1.7478071   & 0.03157801  & 1.8074943   & 0.6537910  \\\\\n",
       "\t 478         & 47          & 0.851494    & 0.000591632 & 1           & 1           & GaD         & 1.7463671   & 0.03109360  & 1.7797671   & 0.6499638  \\\\\n",
       "\t 478         & 46          & 0.845108    & 0.000601948 & 1           & 1           & GaD         & 1.6967363   & 0.03043204  & 1.7418997   & 0.6450364  \\\\\n",
       "\\end{tabular}\n"
      ],
      "text/markdown": [
       "\n",
       "source_degree | target_degree | xswap_prior | prior_perm_stderr | n_edges | n_possible | metaedge | logit_xswap_prior | Lizee | Chung-Lu | Kloster | \n",
       "|---|---|---|---|---|---|---|---|---|---|---|---|---|---|---|---|---|---|---|---|\n",
       "|  19         | 68          | 0.795997    | 0.000466878 | 1           | 1           | CtD         | 1.3614607   | 0.04335716  | 1.7112583   | 0.6588475   | \n",
       "|  17         | 68          | 0.768551    | 0.000488645 | 0           | 1           | CtD         | 1.2001474   | 0.03879325  | 1.5311258   | 0.6327313   | \n",
       "|  15         | 68          | 0.734184    | 0.000511826 | 1           | 1           | CtD         | 1.0159553   | 0.03422934  | 1.3509934   | 0.6024808   | \n",
       "|  19         | 51          | 0.733662    | 0.000512146 | 0           | 1           | CtD         | 1.0132823   | 0.03251787  | 1.2834437   | 0.5854985   | \n",
       "|  14         | 68          | 0.714649    | 0.000523197 | 0           | 1           | CtD         | 0.9180715   | 0.03194738  | 1.2609272   | 0.5854859   | \n",
       "|  17         | 51          | 0.698313    | 0.000531781 | 0           | 1           | CtD         | 0.8392774   | 0.02909494  | 1.1483444   | 0.5575563   | \n",
       "|  13         | 68          | 0.693760    | 0.000534029 | 1           | 1           | CtD         | 0.8177570   | 0.02966543  | 1.1708609   | 0.5670301   | \n",
       "|  12         | 68          | 0.669943    | 0.000544807 | 1           | 1           | CtD         | 0.7079273   | 0.02738347  | 1.0807947   | 0.5469169   | \n",
       "|  15         | 51          | 0.659217    | 0.000549139 | 1           | 1           | CtD         | 0.6598069   | 0.02567200  | 1.0132450   | 0.5257732   | \n",
       "|  19         | 37          | 0.652270    | 0.000551778 | 1           | 1           | CtD         | 0.6290323   | 0.02359140  | 0.9311258   | 0.5010691   | \n",
       "| 550         | 47          | 0.870898    | 0.000557877 | 1           | 1           | GaD         | 1.9089221   | 0.03577716  | 2.0478492   | 0.6824722   | \n",
       "| 540         | 47          | 0.868977    | 0.000561392 | 1           | 1           | GaD         | 1.8919438   | 0.03512667  | 2.0106155   | 0.6783013   | \n",
       "| 535         | 47          | 0.868772    | 0.000561765 | 1           | 1           | GaD         | 1.8901445   | 0.03480142  | 1.9919987   | 0.6761772   | \n",
       "| 550         | 46          | 0.867094    | 0.000564798 | 0           | 1           | GaD         | 1.8755053   | 0.03501594  | 2.0042779   | 0.6777754   | \n",
       "| 540         | 46          | 0.863596    | 0.000571028 | 1           | 1           | GaD         | 1.8454840   | 0.03437929  | 1.9678365   | 0.6735723   | \n",
       "| 535         | 46          | 0.862912    | 0.000572231 | 1           | 1           | GaD         | 1.8396897   | 0.03406096  | 1.9496158   | 0.6714321   | \n",
       "| 496         | 47          | 0.856368    | 0.000583504 | 1           | 1           | GaD         | 1.7854457   | 0.03226449  | 1.8467876   | 0.6586613   | \n",
       "| 496         | 46          | 0.851676    | 0.000591331 | 1           | 1           | GaD         | 1.7478071   | 0.03157801  | 1.8074943   | 0.6537910   | \n",
       "| 478         | 47          | 0.851494    | 0.000591632 | 1           | 1           | GaD         | 1.7463671   | 0.03109360  | 1.7797671   | 0.6499638   | \n",
       "| 478         | 46          | 0.845108    | 0.000601948 | 1           | 1           | GaD         | 1.6967363   | 0.03043204  | 1.7418997   | 0.6450364   | \n",
       "\n",
       "\n"
      ],
      "text/plain": [
       "   source_degree target_degree xswap_prior prior_perm_stderr n_edges n_possible\n",
       "1   19           68            0.795997    0.000466878       1       1         \n",
       "2   17           68            0.768551    0.000488645       0       1         \n",
       "3   15           68            0.734184    0.000511826       1       1         \n",
       "4   19           51            0.733662    0.000512146       0       1         \n",
       "5   14           68            0.714649    0.000523197       0       1         \n",
       "6   17           51            0.698313    0.000531781       0       1         \n",
       "7   13           68            0.693760    0.000534029       1       1         \n",
       "8   12           68            0.669943    0.000544807       1       1         \n",
       "9   15           51            0.659217    0.000549139       1       1         \n",
       "10  19           37            0.652270    0.000551778       1       1         \n",
       "11 550           47            0.870898    0.000557877       1       1         \n",
       "12 540           47            0.868977    0.000561392       1       1         \n",
       "13 535           47            0.868772    0.000561765       1       1         \n",
       "14 550           46            0.867094    0.000564798       0       1         \n",
       "15 540           46            0.863596    0.000571028       1       1         \n",
       "16 535           46            0.862912    0.000572231       1       1         \n",
       "17 496           47            0.856368    0.000583504       1       1         \n",
       "18 496           46            0.851676    0.000591331       1       1         \n",
       "19 478           47            0.851494    0.000591632       1       1         \n",
       "20 478           46            0.845108    0.000601948       1       1         \n",
       "   metaedge logit_xswap_prior Lizee      Chung-Lu  Kloster  \n",
       "1  CtD      1.3614607         0.04335716 1.7112583 0.6588475\n",
       "2  CtD      1.2001474         0.03879325 1.5311258 0.6327313\n",
       "3  CtD      1.0159553         0.03422934 1.3509934 0.6024808\n",
       "4  CtD      1.0132823         0.03251787 1.2834437 0.5854985\n",
       "5  CtD      0.9180715         0.03194738 1.2609272 0.5854859\n",
       "6  CtD      0.8392774         0.02909494 1.1483444 0.5575563\n",
       "7  CtD      0.8177570         0.02966543 1.1708609 0.5670301\n",
       "8  CtD      0.7079273         0.02738347 1.0807947 0.5469169\n",
       "9  CtD      0.6598069         0.02567200 1.0132450 0.5257732\n",
       "10 CtD      0.6290323         0.02359140 0.9311258 0.5010691\n",
       "11 GaD      1.9089221         0.03577716 2.0478492 0.6824722\n",
       "12 GaD      1.8919438         0.03512667 2.0106155 0.6783013\n",
       "13 GaD      1.8901445         0.03480142 1.9919987 0.6761772\n",
       "14 GaD      1.8755053         0.03501594 2.0042779 0.6777754\n",
       "15 GaD      1.8454840         0.03437929 1.9678365 0.6735723\n",
       "16 GaD      1.8396897         0.03406096 1.9496158 0.6714321\n",
       "17 GaD      1.7854457         0.03226449 1.8467876 0.6586613\n",
       "18 GaD      1.7478071         0.03157801 1.8074943 0.6537910\n",
       "19 GaD      1.7463671         0.03109360 1.7797671 0.6499638\n",
       "20 GaD      1.6967363         0.03043204 1.7418997 0.6450364"
      ]
     },
     "metadata": {},
     "output_type": "display_data"
    }
   ],
   "source": [
    "# Top 10 degree-pairs with the highest XSwap prior\n",
    "degree_prior_df %>%\n",
    "  dplyr::group_by(metaedge) %>%\n",
    "  dplyr::arrange(desc(xswap_prior)) %>%\n",
    "  dplyr::do(head(., 10))"
   ]
  },
  {
   "cell_type": "code",
   "execution_count": 10,
   "metadata": {},
   "outputs": [
    {
     "data": {
      "text/plain": [
       "R version 3.4.1 (2017-06-30)\n",
       "Platform: x86_64-pc-linux-gnu (64-bit)\n",
       "Running under: Ubuntu 18.04.1 LTS\n",
       "\n",
       "Matrix products: default\n",
       "BLAS: /home/dhimmel/anaconda3/envs/r35/lib/R/lib/libRblas.so\n",
       "LAPACK: /home/dhimmel/anaconda3/envs/r35/lib/R/lib/libRlapack.so\n",
       "\n",
       "locale:\n",
       " [1] LC_CTYPE=en_US.UTF-8       LC_NUMERIC=C              \n",
       " [3] LC_TIME=en_US.UTF-8        LC_COLLATE=en_US.UTF-8    \n",
       " [5] LC_MONETARY=en_US.UTF-8    LC_MESSAGES=en_US.UTF-8   \n",
       " [7] LC_PAPER=en_US.UTF-8       LC_NAME=C                 \n",
       " [9] LC_ADDRESS=C               LC_TELEPHONE=C            \n",
       "[11] LC_MEASUREMENT=en_US.UTF-8 LC_IDENTIFICATION=C       \n",
       "\n",
       "attached base packages:\n",
       "[1] stats     graphics  grDevices utils     datasets  methods   base     \n",
       "\n",
       "other attached packages:\n",
       "[1] bindrcpp_0.2.2\n",
       "\n",
       "loaded via a namespace (and not attached):\n",
       " [1] Rcpp_0.12.17     plyr_1.8.4       pillar_1.3.0     compiler_3.4.1  \n",
       " [5] bindr_0.1.1      base64enc_0.1-3  tools_3.4.1      boot_1.3-19     \n",
       " [9] digest_0.6.16    uuid_0.1-2       jsonlite_1.5     evaluate_0.11   \n",
       "[13] tibble_1.4.2     gtable_0.2.0     pkgconfig_2.0.2  rlang_0.2.1     \n",
       "[17] IRdisplay_0.4.4  IRkernel_0.8.12  repr_0.15.0      dplyr_0.7.6     \n",
       "[21] stringr_1.3.1    hms_0.4.2        grid_3.4.1       tidyselect_0.2.4\n",
       "[25] glue_1.3.0       R6_2.2.2         pbdZMQ_0.3-2     reshape2_1.4.3  \n",
       "[29] purrr_0.2.5      readr_1.1.1      tidyr_0.8.1      ggplot2_3.0.0   \n",
       "[33] magrittr_1.5     scales_1.0.0     htmltools_0.3.6  assertthat_0.2.0\n",
       "[37] colorspace_1.3-2 labeling_0.3     stringi_1.2.4    lazyeval_0.2.1  \n",
       "[41] munsell_0.5.0    crayon_1.3.4    "
      ]
     },
     "metadata": {},
     "output_type": "display_data"
    }
   ],
   "source": [
    "sessionInfo()"
   ]
  }
 ],
 "metadata": {
  "kernelspec": {
   "display_name": "R",
   "language": "R",
   "name": "ir"
  },
  "language_info": {
   "codemirror_mode": "r",
   "file_extension": ".r",
   "mimetype": "text/x-r-source",
   "name": "R",
   "pygments_lexer": "r",
   "version": "3.4.1"
  }
 },
 "nbformat": 4,
 "nbformat_minor": 2
}
