{
 "cells": [
  {
   "cell_type": "markdown",
   "metadata": {},
   "source": [
    "# Compute DWPCs for all metapaths"
   ]
  },
  {
   "cell_type": "code",
   "execution_count": 1,
   "metadata": {},
   "outputs": [],
   "source": [
    "import collections\n",
    "import pathlib\n",
    "import shutil\n",
    "import zipfile\n",
    "\n",
    "import numpy\n",
    "import pandas\n",
    "import tqdm\n",
    "\n",
    "import hetmech.degree_weight\n",
    "from hetmech.hetmat import HetMat\n",
    "import hetmech.hetmat.caching\n",
    "import hetmech.degree_group\n",
    "import hetmech.pipeline\n",
    "from hetmech.hetmat.archive import create_archive, create_archive_by_globs"
   ]
  },
  {
   "cell_type": "code",
   "execution_count": 2,
   "metadata": {},
   "outputs": [],
   "source": [
    "hetmat = HetMat('../../data/hetionet-v1.0.hetmat/')\n",
    "hetmech.degree_weight.default_dwwc_method = hetmech.degree_weight.dwwc_recursive"
   ]
  },
  {
   "cell_type": "code",
   "execution_count": 3,
   "metadata": {},
   "outputs": [],
   "source": [
    "# set DWPC damping exponent\n",
    "damping = 0.5\n",
    "\n",
    "# if danger is True, delete existing path-counts, adjusted-path-counts, and archives\n",
    "danger = False\n",
    "clear_adjusted_pcs = True"
   ]
  },
  {
   "cell_type": "code",
   "execution_count": 4,
   "metadata": {},
   "outputs": [
    {
     "data": {
      "text/plain": [
       "2205"
      ]
     },
     "execution_count": 4,
     "metadata": {},
     "output_type": "execute_result"
    }
   ],
   "source": [
    "# All metapaths up to length 3\n",
    "metapaths = hetmat.metagraph.extract_all_metapaths(max_length=3, exclude_inverts=True)\n",
    "len(metapaths)"
   ]
  },
  {
   "cell_type": "code",
   "execution_count": 5,
   "metadata": {},
   "outputs": [],
   "source": [
    "# # Overwrite metapaths for testing purposes\n",
    "# metapaths = ['DrD', 'SpDpS']\n",
    "# metapaths = list(map(hetmat.metagraph.get_metapath, metapaths))\n",
    "# metapaths"
   ]
  },
  {
   "cell_type": "code",
   "execution_count": 6,
   "metadata": {},
   "outputs": [],
   "source": [
    "metapath_to_stats = dict()"
   ]
  },
  {
   "cell_type": "code",
   "execution_count": 7,
   "metadata": {},
   "outputs": [],
   "source": [
    "if danger:\n",
    "    for delete_dir in hetmat.directory.glob('path-counts/*'):\n",
    "        shutil.rmtree(delete_dir)\n",
    "if danger or clear_adjusted_pcs:\n",
    "    for delete_dir in hetmat.directory.glob('adjusted-path-counts/*'):\n",
    "        shutil.rmtree(delete_dir)"
   ]
  },
  {
   "cell_type": "markdown",
   "metadata": {},
   "source": [
    "### Compute path counts\n",
    "\n",
    "Note that we probably want to make this more intelligent to not read then write inverse of an existing on-disk metapath."
   ]
  },
  {
   "cell_type": "code",
   "execution_count": 8,
   "metadata": {},
   "outputs": [
    {
     "name": "stderr",
     "output_type": "stream",
     "text": [
      "100%|██████████| 2205/2205 [6:42:33<00:00, 10.95s/it]  \n"
     ]
    }
   ],
   "source": [
    "hetmat.path_counts_cache = hetmech.hetmat.caching.PathCountPriorityCache(hetmat, allocate_GB=16)\n",
    "for metapath in tqdm.tqdm(metapaths):\n",
    "    row_ids, col_ids, pc_matrix = hetmech.degree_weight.dwpc(hetmat, metapath, damping=0, dense_threshold=1, dtype='uint64')\n",
    "    path = hetmat.get_path_counts_path(metapath, 'dwpc', 0, None)\n",
    "    if not path.exists():\n",
    "        hetmech.hetmat.save_matrix(pc_matrix, path)\n",
    "    metapath_to_stats[metapath] = collections.OrderedDict({\n",
    "        'metapath': str(metapath),\n",
    "        'length': len(metapath),\n",
    "        'n_pairs': numpy.prod(pc_matrix.shape),\n",
    "        'pc_density': pc_matrix.count_nonzero() / numpy.prod(pc_matrix.shape),\n",
    "        'pc_mean': pc_matrix.mean(),\n",
    "        'pc_max': pc_matrix.max(),\n",
    "    })\n",
    "    del pc_matrix"
   ]
  },
  {
   "cell_type": "code",
   "execution_count": 9,
   "metadata": {},
   "outputs": [
    {
     "name": "stdout",
     "output_type": "stream",
     "text": [
      "PathCountPriorityCache containing 103 items\n",
      "  total gets: 2,205\n",
      "  cache hits: memory = 0, disk = 2,205, absent = 0\n",
      "  15.33 GB in use of 16.00 GB allocated\n"
     ]
    }
   ],
   "source": [
    "print(hetmat.path_counts_cache.get_stats())\n",
    "hetmat.path_counts_cache = None"
   ]
  },
  {
   "cell_type": "markdown",
   "metadata": {},
   "source": [
    "### Compute DWPCs"
   ]
  },
  {
   "cell_type": "code",
   "execution_count": 10,
   "metadata": {},
   "outputs": [
    {
     "name": "stderr",
     "output_type": "stream",
     "text": [
      "100%|██████████| 2205/2205 [5:53:43<00:00,  9.62s/it]  \n"
     ]
    }
   ],
   "source": [
    "hetmat.path_counts_cache = hetmech.hetmat.caching.PathCountPriorityCache(hetmat, allocate_GB=16)\n",
    "for metapath in tqdm.tqdm(metapaths):\n",
    "    row_ids, col_ids, dwpc_matrix = hetmech.degree_weight.dwpc(hetmat, metapath, damping=damping, dense_threshold=0.7, dtype='float64')\n",
    "    path = hetmat.get_path_counts_path(metapath, 'dwpc', damping, None)\n",
    "    if not path.exists():\n",
    "        hetmech.hetmat.save_matrix(dwpc_matrix, path)\n",
    "    stats = metapath_to_stats[metapath]\n",
    "    stats[f'dwpc-{damping}_raw_mean'] = dwpc_matrix.mean()\n",
    "    del dwpc_matrix"
   ]
  },
  {
   "cell_type": "code",
   "execution_count": 11,
   "metadata": {},
   "outputs": [
    {
     "name": "stdout",
     "output_type": "stream",
     "text": [
      "PathCountPriorityCache containing 103 items\n",
      "  total gets: 2,205\n",
      "  cache hits: memory = 0, disk = 2,205, absent = 0\n",
      "  15.33 GB in use of 16.00 GB allocated\n"
     ]
    }
   ],
   "source": [
    "print(hetmat.path_counts_cache.get_stats())\n",
    "hetmat.path_counts_cache = None"
   ]
  },
  {
   "cell_type": "code",
   "execution_count": 12,
   "metadata": {},
   "outputs": [
    {
     "data": {
      "text/html": [
       "<div>\n",
       "<style scoped>\n",
       "    .dataframe tbody tr th:only-of-type {\n",
       "        vertical-align: middle;\n",
       "    }\n",
       "\n",
       "    .dataframe tbody tr th {\n",
       "        vertical-align: top;\n",
       "    }\n",
       "\n",
       "    .dataframe thead th {\n",
       "        text-align: right;\n",
       "    }\n",
       "</style>\n",
       "<table border=\"1\" class=\"dataframe\">\n",
       "  <thead>\n",
       "    <tr style=\"text-align: right;\">\n",
       "      <th></th>\n",
       "      <th>metapath</th>\n",
       "      <th>length</th>\n",
       "      <th>n_pairs</th>\n",
       "      <th>pc_density</th>\n",
       "      <th>pc_mean</th>\n",
       "      <th>pc_max</th>\n",
       "      <th>dwpc-0.5_raw_mean</th>\n",
       "    </tr>\n",
       "  </thead>\n",
       "  <tbody>\n",
       "    <tr>\n",
       "      <th>0</th>\n",
       "      <td>AlD</td>\n",
       "      <td>1</td>\n",
       "      <td>55074</td>\n",
       "      <td>0.065403</td>\n",
       "      <td>0.065403</td>\n",
       "      <td>1</td>\n",
       "      <td>0.003746</td>\n",
       "    </tr>\n",
       "    <tr>\n",
       "      <th>1</th>\n",
       "      <td>AdG</td>\n",
       "      <td>1</td>\n",
       "      <td>8419890</td>\n",
       "      <td>0.012143</td>\n",
       "      <td>0.012143</td>\n",
       "      <td>1</td>\n",
       "      <td>0.000078</td>\n",
       "    </tr>\n",
       "  </tbody>\n",
       "</table>\n",
       "</div>"
      ],
      "text/plain": [
       "  metapath  length  n_pairs  pc_density   pc_mean  pc_max  dwpc-0.5_raw_mean\n",
       "0      AlD       1    55074    0.065403  0.065403       1           0.003746\n",
       "1      AdG       1  8419890    0.012143  0.012143       1           0.000078"
      ]
     },
     "execution_count": 12,
     "metadata": {},
     "output_type": "execute_result"
    }
   ],
   "source": [
    "metapath_df = pandas.DataFrame(list(metapath_to_stats.values()))\n",
    "metapath_df.to_csv('metapath-dwpc-stats.tsv', sep='\\t', index=False, float_format='%.6g')\n",
    "metapath_df.head(2)"
   ]
  },
  {
   "cell_type": "markdown",
   "metadata": {},
   "source": [
    "### Generate running DGP metrics"
   ]
  },
  {
   "cell_type": "code",
   "execution_count": 13,
   "metadata": {},
   "outputs": [],
   "source": [
    "# Attempt to diagnose memory leak in https://github.com/greenelab/hetmech/issues/141\n",
    "import tracemalloc\n",
    "tracemalloc.start()\n",
    "snapshots = [tracemalloc.take_snapshot()]"
   ]
  },
  {
   "cell_type": "code",
   "execution_count": 14,
   "metadata": {},
   "outputs": [
    {
     "name": "stderr",
     "output_type": "stream",
     "text": [
      "100%|██████████| 200/200 [360:43:33<00:00, 6493.07s/it]    \n"
     ]
    }
   ],
   "source": [
    "for name, permat in tqdm.tqdm(hetmat.permutations.items()):\n",
    "    permat.path_counts_cache = hetmech.hetmat.caching.PathCountPriorityCache(permat, allocate_GB=16)\n",
    "    for metapath in metapaths:\n",
    "        dwpc_mean = metapath_to_stats[metapath][f'dwpc-{damping}_raw_mean']\n",
    "        degree_grouped_df = hetmech.degree_group.single_permutation_degree_group(\n",
    "            permat, metapath, dwpc_mean=dwpc_mean, damping=damping)\n",
    "        path = hetmat.get_running_degree_group_path(metapath, 'dwpc', damping, extension='.pkl')\n",
    "        path.parent.mkdir(parents=True, exist_ok=True)\n",
    "        if path.exists():\n",
    "            running_df = pandas.read_pickle(path)\n",
    "            running_df += degree_grouped_df\n",
    "        else:\n",
    "            running_df = degree_grouped_df\n",
    "        running_df.to_pickle(path)\n",
    "    permat.clear_caches()\n",
    "    snapshots.append(tracemalloc.take_snapshot())"
   ]
  },
  {
   "cell_type": "code",
   "execution_count": 15,
   "metadata": {},
   "outputs": [
    {
     "name": "stdout",
     "output_type": "stream",
     "text": [
      "/home/dhimmel/anaconda3/envs/hetmech/lib/python3.6/pathlib.py:69: size=5133 KiB (+5133 KiB), count=201 (+201), average=25.5 KiB\n",
      "/home/dhimmel/anaconda3/envs/hetmech/lib/python3.6/site-packages/pandas/io/pickle.py:166: size=153 KiB (+153 KiB), count=361 (+361), average=435 B\n",
      "/home/dhimmel/anaconda3/envs/hetmech/lib/python3.6/pathlib.py:666: size=109 KiB (+109 KiB), count=1001 (+1001), average=112 B\n",
      "/home/dhimmel/Documents/greene/hetmech/hetmech/degree_group.py:58: size=99.5 KiB (+99.5 KiB), count=186 (+186), average=548 B\n",
      "/home/dhimmel/anaconda3/envs/hetmech/lib/python3.6/site-packages/pandas/core/indexes/multi.py:2683: size=97.6 KiB (+97.6 KiB), count=194 (+194), average=515 B\n",
      "/home/dhimmel/anaconda3/envs/hetmech/lib/python3.6/pathlib.py:52: size=74.8 KiB (+74.8 KiB), count=1197 (+1197), average=64 B\n"
     ]
    }
   ],
   "source": [
    "# https://docs.python.org/3/library/tracemalloc.html\n",
    "malloc_stats = snapshots[-1].compare_to(snapshots[0], 'lineno')\n",
    "for malloc_stat in malloc_stats[:6]:\n",
    "    print(malloc_stat)"
   ]
  },
  {
   "cell_type": "code",
   "execution_count": 16,
   "metadata": {},
   "outputs": [],
   "source": [
    "# Replace .pkl files with .tsv.gz files.\n",
    "for metapath in metapaths:\n",
    "    old_path = hetmat.get_running_degree_group_path(metapath, 'dwpc', damping, extension='.pkl')\n",
    "    df = pandas.read_pickle(old_path)\n",
    "    new_path = hetmat.get_running_degree_group_path(metapath, 'dwpc', damping, extension='.tsv.gz')\n",
    "    df.to_csv(new_path, sep='\\t', compression='gzip')\n",
    "    old_path.unlink()"
   ]
  },
  {
   "cell_type": "markdown",
   "metadata": {},
   "source": [
    "### Combine DWPC with DGP & calculate p-values"
   ]
  },
  {
   "cell_type": "code",
   "execution_count": null,
   "metadata": {},
   "outputs": [],
   "source": [
    "for metapath in tqdm.tqdm(metapaths):\n",
    "    dwpcs_rows = hetmech.pipeline.combine_dwpc_dgp(hetmat, metapath, damping=damping, ignore_zeros=True, max_p_value=0.01)\n",
    "    path = hetmat.directory.joinpath('adjusted-path-counts', f'dwpc-{damping}',\n",
    "                                     'adjusted-dwpcs', f'{metapath}-filtered.tsv.gz')\n",
    "    path.parent.mkdir(parents=True, exist_ok=True)\n",
    "    hetmech.pipeline.grouped_tsv_writer(dwpcs_rows, path, float_format='%.7g', compression='gzip')"
   ]
  },
  {
   "cell_type": "markdown",
   "metadata": {},
   "source": [
    "## Create archive"
   ]
  },
  {
   "cell_type": "code",
   "execution_count": 17,
   "metadata": {},
   "outputs": [
    {
     "data": {
      "text/plain": [
       "{1: 24, 2: 242, 3: 1939}"
      ]
     },
     "execution_count": 17,
     "metadata": {},
     "output_type": "execute_result"
    }
   ],
   "source": [
    "length_to_metapaths = dict()\n",
    "for metapath in metapaths:\n",
    "    metapath = hetmat.metagraph.get_metapath(metapath)\n",
    "    length_to_metapaths.setdefault(len(metapath), []).append(metapath)\n",
    "# Number of metapaths for each length\n",
    "{k: len(v) for k, v in length_to_metapaths.items()}"
   ]
  },
  {
   "cell_type": "code",
   "execution_count": 18,
   "metadata": {},
   "outputs": [],
   "source": [
    "# Configure archive options\n",
    "split_size = None"
   ]
  },
  {
   "cell_type": "code",
   "execution_count": 19,
   "metadata": {},
   "outputs": [],
   "source": [
    "if danger:\n",
    "    # Delete existing archives\n",
    "    archive_dir = pathlib.Path('archives')\n",
    "    if archive_dir.exists():\n",
    "        shutil.rmtree('archives')\n",
    "    archive_dir.mkdir()\n",
    "\n",
    "# Separate archives for each metapath length\n",
    "for length, metapath_group in length_to_metapaths.items():\n",
    "    # Create degree grouped archive\n",
    "    degree_grouped_paths = [\n",
    "        hetmat.get_running_degree_group_path(metapath, 'dwpc', damping, extension='.tsv.gz').relative_to(hetmat.directory)\n",
    "        for metapath in metapath_group\n",
    "    ]\n",
    "    create_archive(\n",
    "        destination_path=f'archives/degree-grouped-perms_length-{length}_damping-{damping}.zip',\n",
    "        root_directory=hetmat.directory,\n",
    "        source_paths=degree_grouped_paths,\n",
    "        compression=zipfile.ZIP_STORED,\n",
    "        split_size=split_size,\n",
    "    )\n",
    "    # Create PC archive\n",
    "    pc_globs = [\n",
    "        str(hetmat.get_path_counts_path(metapath, 'dwpc', 0, None).relative_to(hetmat.directory)) + '.*'\n",
    "        for metapath in metapath_group\n",
    "    ]\n",
    "    create_archive_by_globs(\n",
    "        destination_path=f'archives/dwpcs_length-{length}_damping-0.0.zip',\n",
    "        root_directory=hetmat.directory,\n",
    "        include_globs=pc_globs,\n",
    "        compression=zipfile.ZIP_STORED,\n",
    "        split_size=split_size,\n",
    "    )\n",
    "    # Create DWPC archive\n",
    "    dwpc_globs = [\n",
    "        str(hetmat.get_path_counts_path(metapath, 'dwpc', damping, None).relative_to(hetmat.directory)) + '.*'\n",
    "        for metapath in metapath_group\n",
    "    ]\n",
    "    create_archive_by_globs(\n",
    "        destination_path=f'archives/dwpcs_length-{length}_damping-{damping}.zip',\n",
    "        root_directory=hetmat.directory,\n",
    "        include_globs=dwpc_globs,\n",
    "        compression=zipfile.ZIP_STORED,\n",
    "        split_size=split_size,\n",
    "    )"
   ]
  },
  {
   "cell_type": "code",
   "execution_count": 21,
   "metadata": {},
   "outputs": [],
   "source": [
    "archive_dir = pathlib.Path('archives')\n",
    "\n",
    "dfs = list()\n",
    "for path in sorted(archive_dir.glob('dwpcs_*zip-info.tsv')):\n",
    "    dfs.append(pandas.read_table(path))\n",
    "info_df = pandas.concat(dfs)\n",
    "info_df.to_csv('archives/dwpcs.zip-info.tsv', sep='\\t', index=False)\n",
    "\n",
    "dfs = list()\n",
    "for path in sorted(archive_dir.glob('degree-grouped-perms_*zip-info.tsv')):\n",
    "    dfs.append(pandas.read_table(path))\n",
    "info_df = pandas.concat(dfs)\n",
    "info_df.to_csv('archives/degree-grouped-perms.zip-info.tsv', sep='\\t', index=False)"
   ]
  },
  {
   "cell_type": "code",
   "execution_count": 22,
   "metadata": {},
   "outputs": [],
   "source": [
    "# Move metapath-dwpc-stats.tsv to archives\n",
    "mv metapath-dwpc-stats.tsv archives/metapath-dwpc-stats.tsv"
   ]
  }
 ],
 "metadata": {
  "kernelspec": {
   "display_name": "Python [conda env:hetmech]",
   "language": "python",
   "name": "conda-env-hetmech-py"
  },
  "language_info": {
   "codemirror_mode": {
    "name": "ipython",
    "version": 3
   },
   "file_extension": ".py",
   "mimetype": "text/x-python",
   "name": "python",
   "nbconvert_exporter": "python",
   "pygments_lexer": "ipython3",
   "version": "3.6.6"
  }
 },
 "nbformat": 4,
 "nbformat_minor": 2
}
