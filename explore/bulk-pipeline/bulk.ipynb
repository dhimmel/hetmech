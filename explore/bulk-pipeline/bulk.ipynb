{
 "cells": [
  {
   "cell_type": "markdown",
   "metadata": {},
   "source": [
    "# Compute DWPCs for all metapaths"
   ]
  },
  {
   "cell_type": "code",
   "execution_count": 1,
   "metadata": {},
   "outputs": [],
   "source": [
    "import pathlib\n",
    "import shutil\n",
    "import zipfile\n",
    "\n",
    "import pandas\n",
    "import tqdm\n",
    "\n",
    "import hetmech.degree_weight\n",
    "from hetmech.hetmat import HetMat\n",
    "import hetmech.hetmat.caching\n",
    "import hetmech.degree_group\n",
    "import hetmech.pipeline\n",
    "from hetmech.hetmat.archive import create_archive, create_archive_by_globs"
   ]
  },
  {
   "cell_type": "code",
   "execution_count": 2,
   "metadata": {},
   "outputs": [],
   "source": [
    "hetmat = HetMat('../../data/hetionet-v1.0.hetmat/')\n",
    "hetmech.degree_weight.default_dwwc_method = hetmech.degree_weight.dwwc_recursive"
   ]
  },
  {
   "cell_type": "code",
   "execution_count": 3,
   "metadata": {},
   "outputs": [],
   "source": [
    "# set DWPC damping exponent\n",
    "damping = 0.5\n",
    "\n",
    "# if danger is True, delete existing path-counts, adjusted-path-counts, and archives\n",
    "danger = False"
   ]
  },
  {
   "cell_type": "code",
   "execution_count": 4,
   "metadata": {},
   "outputs": [
    {
     "data": {
      "text/plain": [
       "2205"
      ]
     },
     "execution_count": 4,
     "metadata": {},
     "output_type": "execute_result"
    }
   ],
   "source": [
    "# All metapaths up to length 3\n",
    "metapaths = hetmat.metagraph.extract_all_metapaths(max_length=3, exclude_inverts=True)\n",
    "len(metapaths)"
   ]
  },
  {
   "cell_type": "code",
   "execution_count": 5,
   "metadata": {},
   "outputs": [],
   "source": [
    "# # Overwrite metapaths for testing purposes\n",
    "# metapaths = ['DrD', 'SpDpS']\n",
    "# metapaths = list(map(hetmat.metagraph.get_metapath, metapaths))\n",
    "# metapaths"
   ]
  },
  {
   "cell_type": "code",
   "execution_count": 6,
   "metadata": {},
   "outputs": [],
   "source": [
    "if danger:\n",
    "    # danger: delete existing path-counts and adjusted-path-counts. Potentially not neccessary\n",
    "    for delete_dir in hetmat.directory.glob('path-counts/*'):\n",
    "        shutil.rmtree(delete_dir)\n",
    "    for delete_dir in hetmat.directory.glob('adjusted-path-counts/*'):\n",
    "        shutil.rmtree(delete_dir)"
   ]
  },
  {
   "cell_type": "markdown",
   "metadata": {},
   "source": [
    "### Compute path counts\n",
    "\n",
    "Note that we probably want to make this more intelligent to not read then write inverse of an existing on-disk metapath."
   ]
  },
  {
   "cell_type": "code",
   "execution_count": 7,
   "metadata": {},
   "outputs": [
    {
     "name": "stderr",
     "output_type": "stream",
     "text": [
      "100%|██████████| 2205/2205 [6:19:43<00:00, 10.33s/it]  \n"
     ]
    }
   ],
   "source": [
    "hetmat.path_counts_cache = hetmech.hetmat.caching.PathCountPriorityCache(hetmat, allocate_GB=16)\n",
    "for metapath in tqdm.tqdm(metapaths):\n",
    "    row_ids, col_ids, pc_matrix = hetmech.degree_weight.dwpc(hetmat, metapath, damping=0, dense_threshold=1, dtype='uint64')\n",
    "    path = hetmat.get_path_counts_path(metapath, 'dwpc', 0, None)\n",
    "    if not path.exists():\n",
    "        hetmech.hetmat.save_matrix(pc_matrix, path)\n",
    "    del pc_matrix"
   ]
  },
  {
   "cell_type": "code",
   "execution_count": 8,
   "metadata": {},
   "outputs": [
    {
     "name": "stdout",
     "output_type": "stream",
     "text": [
      "PathCountPriorityCache containing 103 items\n",
      "  total gets: 2,205\n",
      "  cache hits: memory = 0, disk = 2,205, absent = 0\n",
      "  15.33 GB in use of 16.00 GB allocated\n"
     ]
    }
   ],
   "source": [
    "print(hetmat.path_counts_cache.get_stats())\n",
    "hetmat.path_counts_cache = None"
   ]
  },
  {
   "cell_type": "markdown",
   "metadata": {},
   "source": [
    "### Compute DWPCs"
   ]
  },
  {
   "cell_type": "code",
   "execution_count": 9,
   "metadata": {},
   "outputs": [
    {
     "name": "stderr",
     "output_type": "stream",
     "text": [
      "100%|██████████| 2205/2205 [5:49:40<00:00,  9.51s/it]  \n"
     ]
    }
   ],
   "source": [
    "hetmat.path_counts_cache = hetmech.hetmat.caching.PathCountPriorityCache(hetmat, allocate_GB=16)\n",
    "mean_dwpcs = dict()\n",
    "for metapath in tqdm.tqdm(metapaths):\n",
    "    row_ids, col_ids, dwpc_matrix = hetmech.degree_weight.dwpc(hetmat, metapath, damping=damping, dense_threshold=0.7, dtype='float64')\n",
    "    mean_dwpcs[(metapath, 'dwpc', damping)] = dwpc_matrix.mean()\n",
    "    path = hetmat.get_path_counts_path(metapath, 'dwpc', damping, None)\n",
    "    if not path.exists():\n",
    "        hetmech.hetmat.save_matrix(dwpc_matrix, path)\n",
    "    del dwpc_matrix"
   ]
  },
  {
   "cell_type": "code",
   "execution_count": 10,
   "metadata": {},
   "outputs": [
    {
     "name": "stdout",
     "output_type": "stream",
     "text": [
      "PathCountPriorityCache containing 103 items\n",
      "  total gets: 2,205\n",
      "  cache hits: memory = 0, disk = 2,205, absent = 0\n",
      "  15.33 GB in use of 16.00 GB allocated\n"
     ]
    }
   ],
   "source": [
    "print(hetmat.path_counts_cache.get_stats())\n",
    "hetmat.path_counts_cache = None"
   ]
  },
  {
   "cell_type": "markdown",
   "metadata": {},
   "source": [
    "### Generate running DGP metrics"
   ]
  },
  {
   "cell_type": "code",
   "execution_count": 12,
   "metadata": {},
   "outputs": [],
   "source": [
    "# Attempt to diagnose memory leak in https://github.com/greenelab/hetmech/issues/141\n",
    "import tracemalloc\n",
    "tracemalloc.start()\n",
    "snapshots = [tracemalloc.take_snapshot()]"
   ]
  },
  {
   "cell_type": "code",
   "execution_count": 13,
   "metadata": {},
   "outputs": [
    {
     "name": "stderr",
     "output_type": "stream",
     "text": [
      " 20%|█▉        | 39/200 [71:35:54<295:34:25, 6609.10s/it]"
     ]
    },
    {
     "ename": "KeyboardInterrupt",
     "evalue": "",
     "output_type": "error",
     "traceback": [
      "\u001b[0;31m---------------------------------------------------------------------------\u001b[0m",
      "\u001b[0;31mKeyboardInterrupt\u001b[0m                         Traceback (most recent call last)",
      "\u001b[0;32m<ipython-input-13-9308cac63a7f>\u001b[0m in \u001b[0;36m<module>\u001b[0;34m()\u001b[0m\n\u001b[1;32m      3\u001b[0m     \u001b[0;32mfor\u001b[0m \u001b[0mmetapath\u001b[0m \u001b[0;32min\u001b[0m \u001b[0mmetapaths\u001b[0m\u001b[0;34m:\u001b[0m\u001b[0;34m\u001b[0m\u001b[0m\n\u001b[1;32m      4\u001b[0m         degree_grouped_df = hetmech.degree_group.single_permutation_degree_group(\n\u001b[0;32m----> 5\u001b[0;31m             permat, metapath, dwpc_mean=mean_dwpcs[(metapath, 'dwpc', damping)], damping=damping)\n\u001b[0m\u001b[1;32m      6\u001b[0m         \u001b[0mpath\u001b[0m \u001b[0;34m=\u001b[0m \u001b[0mhetmat\u001b[0m\u001b[0;34m.\u001b[0m\u001b[0mget_running_degree_group_path\u001b[0m\u001b[0;34m(\u001b[0m\u001b[0mmetapath\u001b[0m\u001b[0;34m,\u001b[0m \u001b[0;34m'dwpc'\u001b[0m\u001b[0;34m,\u001b[0m \u001b[0mdamping\u001b[0m\u001b[0;34m,\u001b[0m \u001b[0mextension\u001b[0m\u001b[0;34m=\u001b[0m\u001b[0;34m'.pkl'\u001b[0m\u001b[0;34m)\u001b[0m\u001b[0;34m\u001b[0m\u001b[0m\n\u001b[1;32m      7\u001b[0m         \u001b[0mpath\u001b[0m\u001b[0;34m.\u001b[0m\u001b[0mparent\u001b[0m\u001b[0;34m.\u001b[0m\u001b[0mmkdir\u001b[0m\u001b[0;34m(\u001b[0m\u001b[0mparents\u001b[0m\u001b[0;34m=\u001b[0m\u001b[0;32mTrue\u001b[0m\u001b[0;34m,\u001b[0m \u001b[0mexist_ok\u001b[0m\u001b[0;34m=\u001b[0m\u001b[0;32mTrue\u001b[0m\u001b[0;34m)\u001b[0m\u001b[0;34m\u001b[0m\u001b[0m\n",
      "\u001b[0;32m~/Documents/greene/hetmech/hetmech/degree_group.py\u001b[0m in \u001b[0;36msingle_permutation_degree_group\u001b[0;34m(permuted_hetmat, metapath, dwpc_mean, damping)\u001b[0m\n\u001b[1;32m    118\u001b[0m     \u001b[0;32mfor\u001b[0m \u001b[0mone\u001b[0m \u001b[0mmetapath\u001b[0m\u001b[0;34m.\u001b[0m\u001b[0;34m\u001b[0m\u001b[0m\n\u001b[1;32m    119\u001b[0m     \"\"\"\n\u001b[0;32m--> 120\u001b[0;31m     \u001b[0m_\u001b[0m\u001b[0;34m,\u001b[0m \u001b[0m_\u001b[0m\u001b[0;34m,\u001b[0m \u001b[0mmatrix\u001b[0m \u001b[0;34m=\u001b[0m \u001b[0mhetmech\u001b[0m\u001b[0;34m.\u001b[0m\u001b[0mdegree_weight\u001b[0m\u001b[0;34m.\u001b[0m\u001b[0mdwpc\u001b[0m\u001b[0;34m(\u001b[0m\u001b[0mpermuted_hetmat\u001b[0m\u001b[0;34m,\u001b[0m \u001b[0mmetapath\u001b[0m\u001b[0;34m,\u001b[0m \u001b[0mdamping\u001b[0m\u001b[0;34m=\u001b[0m\u001b[0mdamping\u001b[0m\u001b[0;34m,\u001b[0m \u001b[0mdense_threshold\u001b[0m\u001b[0;34m=\u001b[0m\u001b[0;36m0.7\u001b[0m\u001b[0;34m)\u001b[0m\u001b[0;34m\u001b[0m\u001b[0m\n\u001b[0m\u001b[1;32m    121\u001b[0m     \u001b[0msource_deg_to_ind\u001b[0m\u001b[0;34m,\u001b[0m \u001b[0mtarget_deg_to_ind\u001b[0m \u001b[0;34m=\u001b[0m \u001b[0mhetmech\u001b[0m\u001b[0;34m.\u001b[0m\u001b[0mdegree_group\u001b[0m\u001b[0;34m.\u001b[0m\u001b[0mmetapath_to_degree_dicts\u001b[0m\u001b[0;34m(\u001b[0m\u001b[0mpermuted_hetmat\u001b[0m\u001b[0;34m,\u001b[0m \u001b[0mmetapath\u001b[0m\u001b[0;34m)\u001b[0m\u001b[0;34m\u001b[0m\u001b[0m\n\u001b[1;32m    122\u001b[0m     row_generator = hetmech.degree_group.generate_degree_group_stats(\n",
      "\u001b[0;32m~/Documents/greene/hetmech/hetmech/hetmat/caching.py\u001b[0m in \u001b[0;36mwrapper\u001b[0;34m(*args, **kwargs)\u001b[0m\n\u001b[1;32m     45\u001b[0m                     \u001b[0;32mfrom\u001b[0m \u001b[0mhetmech\u001b[0m\u001b[0;34m.\u001b[0m\u001b[0mdegree_weight\u001b[0m \u001b[0;32mimport\u001b[0m \u001b[0mdefault_dwwc_method\u001b[0m\u001b[0;34m\u001b[0m\u001b[0m\n\u001b[1;32m     46\u001b[0m                     \u001b[0marguments\u001b[0m\u001b[0;34m[\u001b[0m\u001b[0;34m'dwwc_method'\u001b[0m\u001b[0;34m]\u001b[0m \u001b[0;34m=\u001b[0m \u001b[0mdefault_dwwc_method\u001b[0m\u001b[0;34m\u001b[0m\u001b[0m\n\u001b[0;32m---> 47\u001b[0;31m                 \u001b[0mrow_names\u001b[0m\u001b[0;34m,\u001b[0m \u001b[0mcol_names\u001b[0m\u001b[0;34m,\u001b[0m \u001b[0mmatrix\u001b[0m \u001b[0;34m=\u001b[0m \u001b[0muser_function\u001b[0m\u001b[0;34m(\u001b[0m\u001b[0;34m**\u001b[0m\u001b[0marguments\u001b[0m\u001b[0;34m)\u001b[0m\u001b[0;34m\u001b[0m\u001b[0m\n\u001b[0m\u001b[1;32m     48\u001b[0m             \u001b[0;32mif\u001b[0m \u001b[0msupports_cache\u001b[0m\u001b[0;34m:\u001b[0m\u001b[0;34m\u001b[0m\u001b[0m\n\u001b[1;32m     49\u001b[0m                 \u001b[0mruntime\u001b[0m \u001b[0;34m=\u001b[0m \u001b[0mtime\u001b[0m\u001b[0;34m.\u001b[0m\u001b[0mperf_counter\u001b[0m\u001b[0;34m(\u001b[0m\u001b[0;34m)\u001b[0m \u001b[0;34m-\u001b[0m \u001b[0mstart\u001b[0m\u001b[0;34m\u001b[0m\u001b[0m\n",
      "\u001b[0;32m~/Documents/greene/hetmech/hetmech/degree_weight.py\u001b[0m in \u001b[0;36mdwpc\u001b[0;34m(graph, metapath, damping, dense_threshold, approx_ok, dtype, dwwc_method)\u001b[0m\n\u001b[1;32m     83\u001b[0m     row_names, col_names, dwpc_matrix = dwpc_function(\n\u001b[1;32m     84\u001b[0m         \u001b[0mgraph\u001b[0m\u001b[0;34m,\u001b[0m \u001b[0mmetapath\u001b[0m\u001b[0;34m,\u001b[0m \u001b[0mdamping\u001b[0m\u001b[0;34m,\u001b[0m \u001b[0mdense_threshold\u001b[0m\u001b[0;34m=\u001b[0m\u001b[0mdense_threshold\u001b[0m\u001b[0;34m,\u001b[0m\u001b[0;34m\u001b[0m\u001b[0m\n\u001b[0;32m---> 85\u001b[0;31m         dtype=dtype)\n\u001b[0m\u001b[1;32m     86\u001b[0m     \u001b[0;32mreturn\u001b[0m \u001b[0mrow_names\u001b[0m\u001b[0;34m,\u001b[0m \u001b[0mcol_names\u001b[0m\u001b[0;34m,\u001b[0m \u001b[0mdwpc_matrix\u001b[0m\u001b[0;34m\u001b[0m\u001b[0m\n\u001b[1;32m     87\u001b[0m \u001b[0;34m\u001b[0m\u001b[0m\n",
      "\u001b[0;32m~/Documents/greene/hetmech/hetmech/degree_weight.py\u001b[0m in \u001b[0;36m_dwpc_short_repeat\u001b[0;34m(graph, metapath, damping, dense_threshold, dtype)\u001b[0m\n\u001b[1;32m    770\u001b[0m             \u001b[0mdwpc_matrix\u001b[0m \u001b[0;34m=\u001b[0m \u001b[0madj\u001b[0m\u001b[0;34m\u001b[0m\u001b[0m\n\u001b[1;32m    771\u001b[0m         \u001b[0;32melse\u001b[0m\u001b[0;34m:\u001b[0m\u001b[0;34m\u001b[0m\u001b[0m\n\u001b[0;32m--> 772\u001b[0;31m             \u001b[0mdwpc_matrix\u001b[0m \u001b[0;34m=\u001b[0m \u001b[0mdwpc_matrix\u001b[0m \u001b[0;34m@\u001b[0m \u001b[0madj\u001b[0m\u001b[0;34m\u001b[0m\u001b[0m\n\u001b[0m\u001b[1;32m    773\u001b[0m \u001b[0;34m\u001b[0m\u001b[0m\n\u001b[1;32m    774\u001b[0m     \u001b[0mdwpc_matrix\u001b[0m \u001b[0;34m=\u001b[0m \u001b[0mremove_diag\u001b[0m\u001b[0;34m(\u001b[0m\u001b[0mdwpc_matrix\u001b[0m\u001b[0;34m,\u001b[0m \u001b[0mdtype\u001b[0m\u001b[0;34m=\u001b[0m\u001b[0mdtype\u001b[0m\u001b[0;34m)\u001b[0m\u001b[0;34m\u001b[0m\u001b[0m\n",
      "\u001b[0;32m~/anaconda3/envs/hetmech/lib/python3.6/site-packages/scipy/sparse/base.py\u001b[0m in \u001b[0;36m__matmul__\u001b[0;34m(self, other)\u001b[0m\n\u001b[1;32m    557\u001b[0m             raise ValueError(\"Scalar operands are not allowed, \"\n\u001b[1;32m    558\u001b[0m                              \"use '*' instead\")\n\u001b[0;32m--> 559\u001b[0;31m         \u001b[0;32mreturn\u001b[0m \u001b[0mself\u001b[0m\u001b[0;34m.\u001b[0m\u001b[0m__mul__\u001b[0m\u001b[0;34m(\u001b[0m\u001b[0mother\u001b[0m\u001b[0;34m)\u001b[0m\u001b[0;34m\u001b[0m\u001b[0m\n\u001b[0m\u001b[1;32m    560\u001b[0m \u001b[0;34m\u001b[0m\u001b[0m\n\u001b[1;32m    561\u001b[0m     \u001b[0;32mdef\u001b[0m \u001b[0m__rmatmul__\u001b[0m\u001b[0;34m(\u001b[0m\u001b[0mself\u001b[0m\u001b[0;34m,\u001b[0m \u001b[0mother\u001b[0m\u001b[0;34m)\u001b[0m\u001b[0;34m:\u001b[0m\u001b[0;34m\u001b[0m\u001b[0m\n",
      "\u001b[0;32m~/anaconda3/envs/hetmech/lib/python3.6/site-packages/scipy/sparse/base.py\u001b[0m in \u001b[0;36m__mul__\u001b[0;34m(self, other)\u001b[0m\n\u001b[1;32m    477\u001b[0m             \u001b[0;32mif\u001b[0m \u001b[0mself\u001b[0m\u001b[0;34m.\u001b[0m\u001b[0mshape\u001b[0m\u001b[0;34m[\u001b[0m\u001b[0;36m1\u001b[0m\u001b[0;34m]\u001b[0m \u001b[0;34m!=\u001b[0m \u001b[0mother\u001b[0m\u001b[0;34m.\u001b[0m\u001b[0mshape\u001b[0m\u001b[0;34m[\u001b[0m\u001b[0;36m0\u001b[0m\u001b[0;34m]\u001b[0m\u001b[0;34m:\u001b[0m\u001b[0;34m\u001b[0m\u001b[0m\n\u001b[1;32m    478\u001b[0m                 \u001b[0;32mraise\u001b[0m \u001b[0mValueError\u001b[0m\u001b[0;34m(\u001b[0m\u001b[0;34m'dimension mismatch'\u001b[0m\u001b[0;34m)\u001b[0m\u001b[0;34m\u001b[0m\u001b[0m\n\u001b[0;32m--> 479\u001b[0;31m             \u001b[0;32mreturn\u001b[0m \u001b[0mself\u001b[0m\u001b[0;34m.\u001b[0m\u001b[0m_mul_sparse_matrix\u001b[0m\u001b[0;34m(\u001b[0m\u001b[0mother\u001b[0m\u001b[0;34m)\u001b[0m\u001b[0;34m\u001b[0m\u001b[0m\n\u001b[0m\u001b[1;32m    480\u001b[0m \u001b[0;34m\u001b[0m\u001b[0m\n\u001b[1;32m    481\u001b[0m         \u001b[0;31m# If it's a list or whatever, treat it like a matrix\u001b[0m\u001b[0;34m\u001b[0m\u001b[0;34m\u001b[0m\u001b[0m\n",
      "\u001b[0;32m~/anaconda3/envs/hetmech/lib/python3.6/site-packages/scipy/sparse/compressed.py\u001b[0m in \u001b[0;36m_mul_sparse_matrix\u001b[0;34m(self, other)\u001b[0m\n\u001b[1;32m    510\u001b[0m            \u001b[0mnp\u001b[0m\u001b[0;34m.\u001b[0m\u001b[0masarray\u001b[0m\u001b[0;34m(\u001b[0m\u001b[0mother\u001b[0m\u001b[0;34m.\u001b[0m\u001b[0mindices\u001b[0m\u001b[0;34m,\u001b[0m \u001b[0mdtype\u001b[0m\u001b[0;34m=\u001b[0m\u001b[0midx_dtype\u001b[0m\u001b[0;34m)\u001b[0m\u001b[0;34m,\u001b[0m\u001b[0;34m\u001b[0m\u001b[0m\n\u001b[1;32m    511\u001b[0m            \u001b[0mother\u001b[0m\u001b[0;34m.\u001b[0m\u001b[0mdata\u001b[0m\u001b[0;34m,\u001b[0m\u001b[0;34m\u001b[0m\u001b[0m\n\u001b[0;32m--> 512\u001b[0;31m            indptr, indices, data)\n\u001b[0m\u001b[1;32m    513\u001b[0m \u001b[0;34m\u001b[0m\u001b[0m\n\u001b[1;32m    514\u001b[0m         \u001b[0;32mreturn\u001b[0m \u001b[0mself\u001b[0m\u001b[0;34m.\u001b[0m\u001b[0m__class__\u001b[0m\u001b[0;34m(\u001b[0m\u001b[0;34m(\u001b[0m\u001b[0mdata\u001b[0m\u001b[0;34m,\u001b[0m\u001b[0mindices\u001b[0m\u001b[0;34m,\u001b[0m\u001b[0mindptr\u001b[0m\u001b[0;34m)\u001b[0m\u001b[0;34m,\u001b[0m\u001b[0mshape\u001b[0m\u001b[0;34m=\u001b[0m\u001b[0;34m(\u001b[0m\u001b[0mM\u001b[0m\u001b[0;34m,\u001b[0m\u001b[0mN\u001b[0m\u001b[0;34m)\u001b[0m\u001b[0;34m)\u001b[0m\u001b[0;34m\u001b[0m\u001b[0m\n",
      "\u001b[0;31mKeyboardInterrupt\u001b[0m: "
     ]
    }
   ],
   "source": [
    "for name, permat in tqdm.tqdm(hetmat.permutations.items()):\n",
    "    permat.path_counts_cache = hetmech.hetmat.caching.PathCountPriorityCache(permat, allocate_GB=16)\n",
    "    for metapath in metapaths:\n",
    "        degree_grouped_df = hetmech.degree_group.single_permutation_degree_group(\n",
    "            permat, metapath, dwpc_mean=mean_dwpcs[(metapath, 'dwpc', damping)], damping=damping)\n",
    "        path = hetmat.get_running_degree_group_path(metapath, 'dwpc', damping, extension='.pkl')\n",
    "        path.parent.mkdir(parents=True, exist_ok=True)\n",
    "        if path.exists():\n",
    "            running_df = pandas.read_pickle(path)\n",
    "            running_df += degree_grouped_df\n",
    "        else:\n",
    "            running_df = degree_grouped_df\n",
    "        running_df.to_pickle(path)\n",
    "    permat.clear_caches()\n",
    "    snapshots.append(tracemalloc.take_snapshot())"
   ]
  },
  {
   "cell_type": "code",
   "execution_count": 16,
   "metadata": {},
   "outputs": [
    {
     "name": "stdout",
     "output_type": "stream",
     "text": [
      "/home/dhimmel/anaconda3/envs/hetmech/lib/python3.6/site-packages/pandas/core/indexes/multi.py:2688: size=28.7 GiB (+28.7 GiB), count=1994546 (+1994546), average=15.1 KiB\n",
      "/home/dhimmel/anaconda3/envs/hetmech/lib/python3.6/site-packages/pandas/core/indexes/multi.py:2683: size=28.7 GiB (+28.7 GiB), count=1992955 (+1992955), average=15.1 KiB\n",
      "/home/dhimmel/anaconda3/envs/hetmech/lib/python3.6/site-packages/pandas/io/pickle.py:166: size=28.1 MiB (+28.1 MiB), count=153616 (+153616), average=192 B\n",
      "/home/dhimmel/anaconda3/envs/hetmech/lib/python3.6/pathlib.py:66: size=5120 KiB (+5120 KiB), count=1 (+1), average=5120 KiB\n",
      "/home/dhimmel/anaconda3/envs/hetmech/lib/python3.6/site-packages/pandas/core/dtypes/cast.py:604: size=1007 KiB (+1007 KiB), count=1787 (+1787), average=577 B\n",
      "/home/dhimmel/Documents/greene/hetmech/hetmech/degree_group.py:58: size=193 KiB (+193 KiB), count=376 (+376), average=525 B\n",
      "/home/dhimmel/anaconda3/envs/hetmech/lib/python3.6/site-packages/pandas/core/frame.py:7617: size=126 KiB (+126 KiB), count=204 (+204), average=634 B\n",
      "/home/dhimmel/anaconda3/envs/hetmech/lib/python3.6/pathlib.py:666: size=109 KiB (+109 KiB), count=1001 (+1001), average=112 B\n",
      "/home/dhimmel/anaconda3/envs/hetmech/lib/python3.6/pathlib.py:52: size=74.8 KiB (+74.8 KiB), count=1197 (+1197), average=64 B\n",
      "/home/dhimmel/anaconda3/envs/hetmech/lib/python3.6/pathlib.py:103: size=54.8 KiB (+54.8 KiB), count=1001 (+1001), average=56 B\n"
     ]
    }
   ],
   "source": [
    "# https://docs.python.org/3/library/tracemalloc.html\n",
    "top_stats = snapshots[39].compare_to(snapshots[0], 'lineno')\n",
    "for stat in top_stats[:10]:\n",
    "    print(stat)"
   ]
  },
  {
   "cell_type": "code",
   "execution_count": null,
   "metadata": {},
   "outputs": [],
   "source": [
    "# Replace .pkl files with .tsv.gz files.\n",
    "for metapath in metapaths:\n",
    "    old_path = hetmat.get_running_degree_group_path(metapath, 'dwpc', damping, extension='.pkl')\n",
    "    df = pandas.read_pickle(old_path)\n",
    "    new_path = hetmat.get_running_degree_group_path(metapath, 'dwpc', damping, extension='.tsv.gz')\n",
    "    df.to_csv(new_path, sep='\\t', compression='gzip')\n",
    "    old_path.unlink()"
   ]
  },
  {
   "cell_type": "markdown",
   "metadata": {},
   "source": [
    "### Combine DWPC with DGP & calculate p-values"
   ]
  },
  {
   "cell_type": "code",
   "execution_count": null,
   "metadata": {},
   "outputs": [],
   "source": [
    "for metapath in tqdm.tqdm(metapaths):\n",
    "    dwpcs_rows = hetmech.pipeline.combine_dwpc_dgp(hetmat, metapath, damping=damping, ignore_zeros=True, max_p_value=0.01)\n",
    "    path = hetmat.directory.joinpath('adjusted-path-counts', f'dwpc-{damping}',\n",
    "                                     'adjusted-dwpcs', f'{metapath}-filtered.tsv.gz')\n",
    "    path.parent.mkdir(parents=True, exist_ok=True)\n",
    "    hetmech.pipeline.grouped_tsv_writer(dwpcs_rows, path, float_format='%.7g', compression='gzip')"
   ]
  },
  {
   "cell_type": "markdown",
   "metadata": {},
   "source": [
    "## Create archive"
   ]
  },
  {
   "cell_type": "code",
   "execution_count": null,
   "metadata": {},
   "outputs": [],
   "source": [
    "length_to_metapaths = dict()\n",
    "for metapath in metapaths:\n",
    "    metapath = hetmat.metagraph.get_metapath(metapath)\n",
    "    length_to_metapaths.setdefault(len(metapath), []).append(metapath)\n",
    "# Number of metapaths for each length\n",
    "{k: len(v) for k, v in length_to_metapaths.items()}"
   ]
  },
  {
   "cell_type": "code",
   "execution_count": null,
   "metadata": {},
   "outputs": [],
   "source": [
    "# Configure archive options\n",
    "split_size = 50"
   ]
  },
  {
   "cell_type": "code",
   "execution_count": null,
   "metadata": {},
   "outputs": [],
   "source": [
    "if danger:\n",
    "    # Delete existing archives\n",
    "    archive_dir = pathlib.Path('archives')\n",
    "    if archive_dir.exists():\n",
    "        shutil.rmtree('archives')\n",
    "    archive_dir.mkdir()\n",
    "\n",
    "# Separate archives for each metapath length\n",
    "for length, metapath_group in length_to_metapaths.items():\n",
    "    # Create degree grouped archive\n",
    "    degree_grouped_paths = [\n",
    "        hetmat.get_running_degree_group_path(metapath, 'dwpc', damping, extension='.tsv.gz').relative_to(hetmat.directory)\n",
    "        for metapath in metapath_group\n",
    "    ]\n",
    "    create_archive(\n",
    "        destination_path=f'archives/degree-grouped-perms_length-{length}_damping-{damping}.zip',\n",
    "        root_directory=hetmat.directory,\n",
    "        source_paths=degree_grouped_paths,\n",
    "        compression=zipfile.ZIP_STORED,\n",
    "        split_size=split_size,\n",
    "    )\n",
    "    # Create PC archive\n",
    "    pc_globs = [\n",
    "        str(hetmat.get_path_counts_path(metapath, 'dwpc', 0, None).relative_to(hetmat.directory)) + '.*'\n",
    "        for metapath in metapath_group\n",
    "    ]\n",
    "    create_archive_by_globs(\n",
    "        destination_path=f'archives/dwpcs_length-{length}_damping-0.0.zip',\n",
    "        root_directory=hetmat.directory,\n",
    "        include_globs=pc_globs,\n",
    "        compression=zipfile.ZIP_STORED,\n",
    "        split_size=split_size,\n",
    "    )\n",
    "    # Create DWPC archive\n",
    "    dwpc_globs = [\n",
    "        str(hetmat.get_path_counts_path(metapath, 'dwpc', damping, None).relative_to(hetmat.directory)) + '.*'\n",
    "        for metapath in metapath_group\n",
    "    ]\n",
    "    create_archive_by_globs(\n",
    "        destination_path=f'archives/dwpcs_length-{length}_damping-{damping}.zip',\n",
    "        root_directory=hetmat.directory,\n",
    "        include_globs=dwpc_globs,\n",
    "        compression=zipfile.ZIP_STORED,\n",
    "        split_size=split_size,\n",
    "    )"
   ]
  }
 ],
 "metadata": {
  "kernelspec": {
   "display_name": "Python [conda env:hetmech]",
   "language": "python",
   "name": "conda-env-hetmech-py"
  },
  "language_info": {
   "codemirror_mode": {
    "name": "ipython",
    "version": 3
   },
   "file_extension": ".py",
   "mimetype": "text/x-python",
   "name": "python",
   "nbconvert_exporter": "python",
   "pygments_lexer": "ipython3",
   "version": "3.6.6"
  }
 },
 "nbformat": 4,
 "nbformat_minor": 2
}
