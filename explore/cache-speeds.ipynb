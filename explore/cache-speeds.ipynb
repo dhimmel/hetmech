{
 "cells": [
  {
   "cell_type": "markdown",
   "metadata": {},
   "source": [
    "# Evaluating efficiency gains from caching"
   ]
  },
  {
   "cell_type": "code",
   "execution_count": 1,
   "metadata": {},
   "outputs": [],
   "source": [
    "%load_ext autoreload\n",
    "%autoreload 2\n",
    "\n",
    "%matplotlib inline\n",
    "import collections\n",
    "import time\n",
    "\n",
    "import hetmech.degree_weight\n",
    "import hetmech.hetmat"
   ]
  },
  {
   "cell_type": "code",
   "execution_count": 2,
   "metadata": {},
   "outputs": [],
   "source": [
    "hetmat = hetmech.hetmat.HetMat('../data/hetionet-v1.0.hetmat/')"
   ]
  },
  {
   "cell_type": "code",
   "execution_count": 3,
   "metadata": {},
   "outputs": [
    {
     "data": {
      "text/plain": [
       "1172"
      ]
     },
     "execution_count": 3,
     "metadata": {},
     "output_type": "execute_result"
    }
   ],
   "source": [
    "metapaths = list()\n",
    "for metapath in hetmat.metagraph.extract_metapaths('Compound', 'Disease', max_length=4):\n",
    "    if hetmech.degree_weight.categorize(metapath) in {'long_repeat', 'other'}:\n",
    "        continue\n",
    "    metapaths.append(metapath)\n",
    "len(metapaths)"
   ]
  },
  {
   "cell_type": "code",
   "execution_count": 4,
   "metadata": {},
   "outputs": [],
   "source": [
    "segment_counts = hetmech.degree_weight.order_segments(hetmat.metagraph, metapaths, store_inverses=False)"
   ]
  },
  {
   "cell_type": "code",
   "execution_count": 5,
   "metadata": {},
   "outputs": [
    {
     "data": {
      "text/plain": [
       "[(CpD, 306),\n",
       " (CtD, 306),\n",
       " (CdG, 291),\n",
       " (CbG, 291),\n",
       " (CuG, 291),\n",
       " (GdD, 279),\n",
       " (GuD, 279),\n",
       " (GaD, 279),\n",
       " (G<rG, 144),\n",
       " (DrD, 91)]"
      ]
     },
     "execution_count": 5,
     "metadata": {},
     "output_type": "execute_result"
    }
   ],
   "source": [
    "segment_counts.most_common(10)"
   ]
  },
  {
   "cell_type": "code",
   "execution_count": 6,
   "metadata": {},
   "outputs": [
    {
     "data": {
      "text/plain": [
       "103"
      ]
     },
     "execution_count": 6,
     "metadata": {},
     "output_type": "execute_result"
    }
   ],
   "source": [
    "# Why are there so few segments?\n",
    "len(segment_counts)"
   ]
  },
  {
   "cell_type": "code",
   "execution_count": 7,
   "metadata": {},
   "outputs": [],
   "source": [
    "def compute_dwpcs(allocate_GB):\n",
    "    print(f'Beginning DWPCs for {len(metapaths):,} metapaths with a cache allocation of {allocate_GB:.2f} GB')\n",
    "    cache = hetmech.hetmat.PathCountPriorityCache(hetmat, allocate_GB=allocate_GB)\n",
    "    cache.priorities = segment_counts\n",
    "    hetmat.path_counts_cache = cache\n",
    "    start = time.perf_counter()\n",
    "    for metapath in metapaths:\n",
    "        rows_ids, col_ids, matrix = hetmech.degree_weight.dwpc(hetmat, metapath, dense_threshold=0.7)\n",
    "    end = time.perf_counter()\n",
    "    total = time.strftime('%H:%M:%S', time.gmtime(end - start))\n",
    "    print(f'Computation complete in {total}')\n",
    "    print(f'Cache contains {len(cache.cache):,} items, totaling {cache.current_B / 1_000_000_000:.2f} GB')"
   ]
  },
  {
   "cell_type": "code",
   "execution_count": 8,
   "metadata": {},
   "outputs": [
    {
     "name": "stdout",
     "output_type": "stream",
     "text": [
      "Beginning DWPCs for 1,172 metapaths with a cache allocation of 0.00 GB\n",
      "Computation complete in 00:28:40\n",
      "Cache contains 0 items, totaling 0.00 GB\n",
      "Beginning DWPCs for 1,172 metapaths with a cache allocation of 0.20 GB\n",
      "Computation complete in 00:27:30\n",
      "Cache contains 300 items, totaling 0.20 GB\n",
      "Beginning DWPCs for 1,172 metapaths with a cache allocation of 1.00 GB\n",
      "Computation complete in 00:27:25\n",
      "Cache contains 1,256 items, totaling 0.69 GB\n",
      "Beginning DWPCs for 1,172 metapaths with a cache allocation of 5.00 GB\n",
      "Computation complete in 00:27:20\n",
      "Cache contains 1,256 items, totaling 0.69 GB\n",
      "Beginning DWPCs for 1,172 metapaths with a cache allocation of 20.00 GB\n",
      "Computation complete in 00:27:23\n",
      "Cache contains 1,256 items, totaling 0.69 GB\n"
     ]
    }
   ],
   "source": [
    "for allocate_GB in 0, 0.2, 1, 5, 20:\n",
    "    compute_dwpcs(allocate_GB)"
   ]
  }
 ],
 "metadata": {
  "kernelspec": {
   "display_name": "Python [conda env:hetmech]",
   "language": "python",
   "name": "conda-env-hetmech-py"
  },
  "language_info": {
   "codemirror_mode": {
    "name": "ipython",
    "version": 3
   },
   "file_extension": ".py",
   "mimetype": "text/x-python",
   "name": "python",
   "nbconvert_exporter": "python",
   "pygments_lexer": "ipython3",
   "version": "3.6.4"
  }
 },
 "nbformat": 4,
 "nbformat_minor": 2
}
